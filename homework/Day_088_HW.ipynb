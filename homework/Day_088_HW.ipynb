{
 "cells": [
  {
   "cell_type": "markdown",
   "metadata": {},
   "source": [
    "## Work\n",
    "1. 請嘗試寫一個 callback 用來記錄各類別在訓練過程中，對驗證集的 True Positive 與 True Negative"
   ]
  },
  {
   "cell_type": "code",
   "execution_count": 1,
   "metadata": {},
   "outputs": [
    {
     "name": "stderr",
     "output_type": "stream",
     "text": [
      "Using TensorFlow backend.\n",
      "c:\\users\\user\\.conda\\envs\\tf113\\lib\\site-packages\\tensorflow\\python\\framework\\dtypes.py:526: FutureWarning: Passing (type, 1) or '1type' as a synonym of type is deprecated; in a future version of numpy, it will be understood as (type, (1,)) / '(1,)type'.\n",
      "  _np_qint8 = np.dtype([(\"qint8\", np.int8, 1)])\n",
      "c:\\users\\user\\.conda\\envs\\tf113\\lib\\site-packages\\tensorflow\\python\\framework\\dtypes.py:527: FutureWarning: Passing (type, 1) or '1type' as a synonym of type is deprecated; in a future version of numpy, it will be understood as (type, (1,)) / '(1,)type'.\n",
      "  _np_quint8 = np.dtype([(\"quint8\", np.uint8, 1)])\n",
      "c:\\users\\user\\.conda\\envs\\tf113\\lib\\site-packages\\tensorflow\\python\\framework\\dtypes.py:528: FutureWarning: Passing (type, 1) or '1type' as a synonym of type is deprecated; in a future version of numpy, it will be understood as (type, (1,)) / '(1,)type'.\n",
      "  _np_qint16 = np.dtype([(\"qint16\", np.int16, 1)])\n",
      "c:\\users\\user\\.conda\\envs\\tf113\\lib\\site-packages\\tensorflow\\python\\framework\\dtypes.py:529: FutureWarning: Passing (type, 1) or '1type' as a synonym of type is deprecated; in a future version of numpy, it will be understood as (type, (1,)) / '(1,)type'.\n",
      "  _np_quint16 = np.dtype([(\"quint16\", np.uint16, 1)])\n",
      "c:\\users\\user\\.conda\\envs\\tf113\\lib\\site-packages\\tensorflow\\python\\framework\\dtypes.py:530: FutureWarning: Passing (type, 1) or '1type' as a synonym of type is deprecated; in a future version of numpy, it will be understood as (type, (1,)) / '(1,)type'.\n",
      "  _np_qint32 = np.dtype([(\"qint32\", np.int32, 1)])\n",
      "c:\\users\\user\\.conda\\envs\\tf113\\lib\\site-packages\\tensorflow\\python\\framework\\dtypes.py:535: FutureWarning: Passing (type, 1) or '1type' as a synonym of type is deprecated; in a future version of numpy, it will be understood as (type, (1,)) / '(1,)type'.\n",
      "  np_resource = np.dtype([(\"resource\", np.ubyte, 1)])\n"
     ]
    }
   ],
   "source": [
    "import os\n",
    "import keras\n",
    "\n",
    "# Disable GPU\n",
    "# os.environ[\"CUDA_VISIBLE_DEVICES\"] = \"\""
   ]
  },
  {
   "cell_type": "code",
   "execution_count": 2,
   "metadata": {},
   "outputs": [],
   "source": [
    "train, test = keras.datasets.cifar10.load_data()"
   ]
  },
  {
   "cell_type": "code",
   "execution_count": 3,
   "metadata": {},
   "outputs": [],
   "source": [
    "## 資料前處理\n",
    "def preproc_x(x, flatten=True):\n",
    "    x = x / 255.\n",
    "    if flatten:\n",
    "        x = x.reshape((len(x), -1))\n",
    "    return x\n",
    "\n",
    "def preproc_y(y, num_classes=10):\n",
    "    if y.shape[-1] == 1:\n",
    "        y = keras.utils.to_categorical(y, num_classes)\n",
    "    return y    "
   ]
  },
  {
   "cell_type": "code",
   "execution_count": 4,
   "metadata": {},
   "outputs": [],
   "source": [
    "x_train, y_train = train\n",
    "x_test, y_test = test\n",
    "\n",
    "# Preproc the inputs\n",
    "x_train = preproc_x(x_train)\n",
    "x_test = preproc_x(x_test)\n",
    "\n",
    "# Preprc the outputs\n",
    "y_train = preproc_y(y_train)\n",
    "y_test = preproc_y(y_test)"
   ]
  },
  {
   "cell_type": "code",
   "execution_count": 5,
   "metadata": {},
   "outputs": [],
   "source": [
    "from keras.layers import BatchNormalization\n",
    "\n",
    "def build_mlp(input_shape, output_units=10, num_neurons=[256, 256, 256]):\n",
    "    input_layer = keras.layers.Input(input_shape)\n",
    "    \n",
    "    for i, n_units in enumerate(num_neurons):\n",
    "        if i == 0:\n",
    "            x = keras.layers.Dense(units=n_units, \n",
    "                                   activation=\"relu\", \n",
    "                                   name=\"hidden_layer\"+str(i+1))(input_layer)\n",
    "            x = BatchNormalization()(x)\n",
    "        else:\n",
    "            x = keras.layers.Dense(units=n_units, \n",
    "                                   activation=\"relu\", \n",
    "                                   name=\"hidden_layer\"+str(i+1))(x)\n",
    "            x = BatchNormalization()(x)\n",
    "    \n",
    "    out = keras.layers.Dense(units=output_units, activation=\"softmax\", name=\"output\")(x)\n",
    "    \n",
    "    model = keras.models.Model(inputs=[input_layer], outputs=[out])\n",
    "    return model"
   ]
  },
  {
   "cell_type": "code",
   "execution_count": 33,
   "metadata": {},
   "outputs": [],
   "source": [
    "## 超參數設定\n",
    "LEARNING_RATE = 1e-3\n",
    "EPOCHS = 30\n",
    "BATCH_SIZE = 1024\n",
    "MOMENTUM = 0.95"
   ]
  },
  {
   "cell_type": "code",
   "execution_count": 34,
   "metadata": {},
   "outputs": [
    {
     "name": "stdout",
     "output_type": "stream",
     "text": [
      "[False False  True  True False]\n",
      "2\n"
     ]
    },
    {
     "data": {
      "text/plain": [
       "array([3, 2], dtype=int64)"
      ]
     },
     "execution_count": 34,
     "metadata": {},
     "output_type": "execute_result"
    }
   ],
   "source": [
    "#test\n",
    "import numpy as np\n",
    "print(np.logical_and([0,0,1,1,0], [0,0,1,1,1]))\n",
    "print(np.sum(np.logical_and([0,0,1,1,0], [0,0,1,1,1])))\n",
    "\n",
    "nnn=np.array([[2,5,3,9,7],[2,1,8,5,0]])\n",
    "# np.argmax(nnn,axis=1)\n",
    "nnn.argmax(axis=1)"
   ]
  },
  {
   "cell_type": "code",
   "execution_count": null,
   "metadata": {},
   "outputs": [],
   "source": [
    "# True Positive (TP):predict a label of 1 (positive), true label is 1.\n",
    "TP = np.sum(np.logical_and(pred_labels == 1, true_labels == 1))\n",
    " \n",
    "# True Negative (TN):predict a label of 0 (negative), true label is 0.\n",
    "TN = np.sum(np.logical_and(pred_labels == 0, true_labels == 0))\n",
    " \n",
    "# False Positive (FP):predict a label of 1 (positive),true label is 0.\n",
    "FP = np.sum(np.logical_and(pred_labels == 1, true_labels == 0))\n",
    " \n",
    "# False Negative (FN):predict a label of 0 (negative),true label is 1.\n",
    "FN = np.sum(np.logical_and(pred_labels == 0, true_labels == 1))\n",
    " \n",
    "print 'TP: %i, FP: %i, TN: %i, FN: %i' % (TP,FP,TN,FN)"
   ]
  },
  {
   "cell_type": "code",
   "execution_count": 35,
   "metadata": {},
   "outputs": [],
   "source": [
    "# 載入 Callbacks\n",
    "from keras.callbacks import Callback\n",
    "\n",
    "# Record_fp_tp\n",
    "class Record_tp_tn(Callback):\n",
    "    \"\"\"Code Here\n",
    "    撰寫一個紀錄 ture positive 與 true negative 數量的 callbacks    \n",
    "    \"\"\"\n",
    "    def on_train_begin(self, epoch, logs = {}):\n",
    "        logs = logs or {}\n",
    "        record_items = [\"val_auc\", \"val_f1sc\", \"val_fp\", \"val_fn\", \"val_tp\", \"val_tn\"]\n",
    "        for i in record_items:\n",
    "            if i not in self.params['metrics']:\n",
    "                self.params['metrics'].append(i)\n",
    "    def on_epoch_end(self, epoch, logs = {}, thres=0.5):\n",
    "        logs = logs or {}\n",
    "        y_true = self.validation_data[1].argmax(axis = 1)\n",
    "        #after next line softmax predict 'y_pred return shape(10000,10)' with probability each row ex:[0.1,0.2,...0.1] len=10, stands for 0~9\n",
    "        y_pred = self.model.predict(self.validation_data[0])\n",
    "        #so have to find the max probability of each row reprensentsing predicting value\n",
    "        y_pred=y_pred.argmax(axis = 1)\n",
    "        \n",
    "        #take 0,1 as example\n",
    "        logs[\"val_tp\"] = np.sum(np.logical_and(y_pred == 1, y_true == 1))\n",
    "        logs[\"val_tn\"] = np.sum(np.logical_and(y_pred == 0, y_true == 0))        \n",
    "        #logs[\"val_f1sc\"] = f1_score(y_true = y_true, y_pred = y_pred, average=\"weighted\")\n",
    "  \n",
    "        print(\"y_true\",y_true)\n",
    "        print(\"y_pred\",y_pred)\n",
    "        print(\"sum y_pred\",np.sum(y_pred),\"y_pred shape\",y_pred.shape,\"y_true shape\",y_true.shape)\n",
    "\n",
    "\n",
    "    \n",
    "        \n",
    "rec_tptn = Record_tp_tn()"
   ]
  },
  {
   "cell_type": "code",
   "execution_count": 36,
   "metadata": {
    "scrolled": true
   },
   "outputs": [
    {
     "name": "stdout",
     "output_type": "stream",
     "text": [
      "Model: \"model_3\"\n",
      "_________________________________________________________________\n",
      "Layer (type)                 Output Shape              Param #   \n",
      "=================================================================\n",
      "input_3 (InputLayer)         (None, 3072)              0         \n",
      "_________________________________________________________________\n",
      "hidden_layer1 (Dense)        (None, 256)               786688    \n",
      "_________________________________________________________________\n",
      "batch_normalization_7 (Batch (None, 256)               1024      \n",
      "_________________________________________________________________\n",
      "hidden_layer2 (Dense)        (None, 256)               65792     \n",
      "_________________________________________________________________\n",
      "batch_normalization_8 (Batch (None, 256)               1024      \n",
      "_________________________________________________________________\n",
      "hidden_layer3 (Dense)        (None, 256)               65792     \n",
      "_________________________________________________________________\n",
      "batch_normalization_9 (Batch (None, 256)               1024      \n",
      "_________________________________________________________________\n",
      "output (Dense)               (None, 10)                2570      \n",
      "=================================================================\n",
      "Total params: 923,914\n",
      "Trainable params: 922,378\n",
      "Non-trainable params: 1,536\n",
      "_________________________________________________________________\n",
      "Train on 50000 samples, validate on 10000 samples\n",
      "Epoch 1/30\n",
      "50000/50000 [==============================] - 3s 55us/step - loss: 2.2085 - accuracy: 0.2669 - val_loss: 2.1643 - val_accuracy: 0.1745\n",
      "y_true [3 8 8 ... 5 1 7]\n",
      "y_pred [0 0 8 ... 5 0 0]\n",
      "sum y_pred 21944 y_pred shape (10000,) y_true shape (10000,)\n",
      "Epoch 2/30\n",
      "50000/50000 [==============================] - 2s 37us/step - loss: 1.7696 - accuracy: 0.3846 - val_loss: 2.0090 - val_accuracy: 0.2761\n",
      "y_true [3 8 8 ... 5 1 7]\n",
      "y_pred [3 8 8 ... 5 3 7]\n",
      "sum y_pred 41270 y_pred shape (10000,) y_true shape (10000,)\n",
      "Epoch 3/30\n",
      "50000/50000 [==============================] - 2s 36us/step - loss: 1.6412 - accuracy: 0.4240 - val_loss: 1.8431 - val_accuracy: 0.3607\n",
      "y_true [3 8 8 ... 5 1 7]\n",
      "y_pred [5 8 8 ... 5 5 7]\n",
      "sum y_pred 47753 y_pred shape (10000,) y_true shape (10000,)\n",
      "Epoch 4/30\n",
      "50000/50000 [==============================] - 2s 36us/step - loss: 1.5661 - accuracy: 0.4485 - val_loss: 1.7420 - val_accuracy: 0.3952\n",
      "y_true [3 8 8 ... 5 1 7]\n",
      "y_pred [2 8 8 ... 3 5 7]\n",
      "sum y_pred 47136 y_pred shape (10000,) y_true shape (10000,)\n",
      "Epoch 5/30\n",
      "50000/50000 [==============================] - 2s 37us/step - loss: 1.5081 - accuracy: 0.4714 - val_loss: 1.6307 - val_accuracy: 0.4346\n",
      "y_true [3 8 8 ... 5 1 7]\n",
      "y_pred [0 8 8 ... 3 5 7]\n",
      "sum y_pred 48603 y_pred shape (10000,) y_true shape (10000,)\n",
      "Epoch 6/30\n",
      "50000/50000 [==============================] - 2s 36us/step - loss: 1.4640 - accuracy: 0.4861 - val_loss: 1.5763 - val_accuracy: 0.4480\n",
      "y_true [3 8 8 ... 5 1 7]\n",
      "y_pred [3 8 8 ... 3 5 7]\n",
      "sum y_pred 47193 y_pred shape (10000,) y_true shape (10000,)\n",
      "Epoch 7/30\n",
      "50000/50000 [==============================] - 2s 36us/step - loss: 1.4246 - accuracy: 0.5001 - val_loss: 1.5400 - val_accuracy: 0.4601\n",
      "y_true [3 8 8 ... 5 1 7]\n",
      "y_pred [2 9 8 ... 3 5 7]\n",
      "sum y_pred 48452 y_pred shape (10000,) y_true shape (10000,)\n",
      "Epoch 8/30\n",
      "50000/50000 [==============================] - 2s 36us/step - loss: 1.3925 - accuracy: 0.5111 - val_loss: 1.5149 - val_accuracy: 0.4654\n",
      "y_true [3 8 8 ... 5 1 7]\n",
      "y_pred [3 8 8 ... 3 5 7]\n",
      "sum y_pred 48243 y_pred shape (10000,) y_true shape (10000,)\n",
      "Epoch 9/30\n",
      "50000/50000 [==============================] - 2s 36us/step - loss: 1.3606 - accuracy: 0.5238 - val_loss: 1.5043 - val_accuracy: 0.4739\n",
      "y_true [3 8 8 ... 5 1 7]\n",
      "y_pred [3 9 8 ... 5 5 7]\n",
      "sum y_pred 47263 y_pred shape (10000,) y_true shape (10000,)\n",
      "Epoch 10/30\n",
      "50000/50000 [==============================] - 2s 36us/step - loss: 1.3322 - accuracy: 0.5335 - val_loss: 1.4896 - val_accuracy: 0.4718\n",
      "y_true [3 8 8 ... 5 1 7]\n",
      "y_pred [3 8 8 ... 5 5 7]\n",
      "sum y_pred 45498 y_pred shape (10000,) y_true shape (10000,)\n",
      "Epoch 11/30\n",
      "50000/50000 [==============================] - 2s 35us/step - loss: 1.3069 - accuracy: 0.5437 - val_loss: 1.4779 - val_accuracy: 0.4760\n",
      "y_true [3 8 8 ... 5 1 7]\n",
      "y_pred [3 9 1 ... 5 5 7]\n",
      "sum y_pred 45690 y_pred shape (10000,) y_true shape (10000,)\n",
      "Epoch 12/30\n",
      "50000/50000 [==============================] - 2s 36us/step - loss: 1.2814 - accuracy: 0.5532 - val_loss: 1.4783 - val_accuracy: 0.4779\n",
      "y_true [3 8 8 ... 5 1 7]\n",
      "y_pred [3 9 1 ... 5 5 7]\n",
      "sum y_pred 48524 y_pred shape (10000,) y_true shape (10000,)\n",
      "Epoch 13/30\n",
      "50000/50000 [==============================] - 2s 36us/step - loss: 1.2595 - accuracy: 0.5620 - val_loss: 1.4675 - val_accuracy: 0.4860\n",
      "y_true [3 8 8 ... 5 1 7]\n",
      "y_pred [3 9 8 ... 5 6 7]\n",
      "sum y_pred 47899 y_pred shape (10000,) y_true shape (10000,)\n",
      "Epoch 14/30\n",
      "50000/50000 [==============================] - 2s 36us/step - loss: 1.2382 - accuracy: 0.5686 - val_loss: 1.4533 - val_accuracy: 0.4855\n",
      "y_true [3 8 8 ... 5 1 7]\n",
      "y_pred [3 9 8 ... 5 5 7]\n",
      "sum y_pred 46488 y_pred shape (10000,) y_true shape (10000,)\n",
      "Epoch 15/30\n",
      "50000/50000 [==============================] - 2s 36us/step - loss: 1.2168 - accuracy: 0.5783 - val_loss: 1.4553 - val_accuracy: 0.4819\n",
      "y_true [3 8 8 ... 5 1 7]\n",
      "y_pred [3 9 0 ... 5 5 7]\n",
      "sum y_pred 45860 y_pred shape (10000,) y_true shape (10000,)\n",
      "Epoch 16/30\n",
      "50000/50000 [==============================] - 2s 36us/step - loss: 1.1968 - accuracy: 0.5846 - val_loss: 1.4528 - val_accuracy: 0.4912\n",
      "y_true [3 8 8 ... 5 1 7]\n",
      "y_pred [3 9 8 ... 5 5 7]\n",
      "sum y_pred 46631 y_pred shape (10000,) y_true shape (10000,)\n",
      "Epoch 17/30\n",
      "50000/50000 [==============================] - 2s 36us/step - loss: 1.1779 - accuracy: 0.5904 - val_loss: 1.4486 - val_accuracy: 0.4882\n",
      "y_true [3 8 8 ... 5 1 7]\n",
      "y_pred [3 8 1 ... 2 5 7]\n",
      "sum y_pred 47803 y_pred shape (10000,) y_true shape (10000,)\n",
      "Epoch 18/30\n",
      "50000/50000 [==============================] - 2s 36us/step - loss: 1.1580 - accuracy: 0.5988 - val_loss: 1.4391 - val_accuracy: 0.4955\n",
      "y_true [3 8 8 ... 5 1 7]\n",
      "y_pred [3 9 8 ... 2 5 7]\n",
      "sum y_pred 44229 y_pred shape (10000,) y_true shape (10000,)\n",
      "Epoch 19/30\n",
      "50000/50000 [==============================] - 2s 36us/step - loss: 1.1399 - accuracy: 0.6057 - val_loss: 1.4351 - val_accuracy: 0.4963\n",
      "y_true [3 8 8 ... 5 1 7]\n",
      "y_pred [3 9 1 ... 2 5 7]\n",
      "sum y_pred 46153 y_pred shape (10000,) y_true shape (10000,)\n",
      "Epoch 20/30\n",
      "50000/50000 [==============================] - 2s 36us/step - loss: 1.1218 - accuracy: 0.6133 - val_loss: 1.4365 - val_accuracy: 0.4957\n",
      "y_true [3 8 8 ... 5 1 7]\n",
      "y_pred [3 9 1 ... 2 5 7]\n",
      "sum y_pred 45571 y_pred shape (10000,) y_true shape (10000,)\n",
      "Epoch 21/30\n",
      "50000/50000 [==============================] - 2s 36us/step - loss: 1.1046 - accuracy: 0.6186 - val_loss: 1.4369 - val_accuracy: 0.5000\n",
      "y_true [3 8 8 ... 5 1 7]\n",
      "y_pred [3 8 8 ... 2 5 7]\n",
      "sum y_pred 47608 y_pred shape (10000,) y_true shape (10000,)\n",
      "Epoch 22/30\n",
      "50000/50000 [==============================] - 2s 36us/step - loss: 1.0856 - accuracy: 0.6257 - val_loss: 1.4352 - val_accuracy: 0.4958\n",
      "y_true [3 8 8 ... 5 1 7]\n",
      "y_pred [3 9 1 ... 2 5 7]\n",
      "sum y_pred 46915 y_pred shape (10000,) y_true shape (10000,)\n",
      "Epoch 23/30\n",
      "50000/50000 [==============================] - 2s 36us/step - loss: 1.0700 - accuracy: 0.6317 - val_loss: 1.4375 - val_accuracy: 0.4987\n",
      "y_true [3 8 8 ... 5 1 7]\n",
      "y_pred [3 9 8 ... 2 5 7]\n",
      "sum y_pred 46600 y_pred shape (10000,) y_true shape (10000,)\n",
      "Epoch 24/30\n",
      "50000/50000 [==============================] - 2s 36us/step - loss: 1.0537 - accuracy: 0.6389 - val_loss: 1.4362 - val_accuracy: 0.4973\n",
      "y_true [3 8 8 ... 5 1 7]\n",
      "y_pred [3 9 8 ... 2 5 7]\n",
      "sum y_pred 46463 y_pred shape (10000,) y_true shape (10000,)\n",
      "Epoch 25/30\n",
      "50000/50000 [==============================] - 2s 36us/step - loss: 1.0380 - accuracy: 0.6438 - val_loss: 1.4346 - val_accuracy: 0.5021\n",
      "y_true [3 8 8 ... 5 1 7]\n",
      "y_pred [3 9 8 ... 2 6 7]\n",
      "sum y_pred 47374 y_pred shape (10000,) y_true shape (10000,)\n",
      "Epoch 26/30\n",
      "50000/50000 [==============================] - 2s 36us/step - loss: 1.0230 - accuracy: 0.6502 - val_loss: 1.4327 - val_accuracy: 0.5061\n",
      "y_true [3 8 8 ... 5 1 7]\n",
      "y_pred [3 1 8 ... 2 6 7]\n",
      "sum y_pred 46645 y_pred shape (10000,) y_true shape (10000,)\n",
      "Epoch 27/30\n"
     ]
    },
    {
     "name": "stdout",
     "output_type": "stream",
     "text": [
      "50000/50000 [==============================] - 2s 36us/step - loss: 1.0068 - accuracy: 0.6574 - val_loss: 1.4278 - val_accuracy: 0.5041\n",
      "y_true [3 8 8 ... 5 1 7]\n",
      "y_pred [3 1 1 ... 2 5 7]\n",
      "sum y_pred 45574 y_pred shape (10000,) y_true shape (10000,)\n",
      "Epoch 28/30\n",
      "50000/50000 [==============================] - 2s 36us/step - loss: 0.9900 - accuracy: 0.6636 - val_loss: 1.4296 - val_accuracy: 0.5030\n",
      "y_true [3 8 8 ... 5 1 7]\n",
      "y_pred [3 8 8 ... 2 5 7]\n",
      "sum y_pred 46607 y_pred shape (10000,) y_true shape (10000,)\n",
      "Epoch 29/30\n",
      "50000/50000 [==============================] - 2s 36us/step - loss: 0.9739 - accuracy: 0.6692 - val_loss: 1.4325 - val_accuracy: 0.5025\n",
      "y_true [3 8 8 ... 5 1 7]\n",
      "y_pred [3 1 8 ... 2 5 7]\n",
      "sum y_pred 46433 y_pred shape (10000,) y_true shape (10000,)\n",
      "Epoch 30/30\n",
      "50000/50000 [==============================] - 2s 36us/step - loss: 0.9564 - accuracy: 0.6774 - val_loss: 1.4388 - val_accuracy: 0.5031\n",
      "y_true [3 8 8 ... 5 1 7]\n",
      "y_pred [3 9 8 ... 2 5 7]\n",
      "sum y_pred 47029 y_pred shape (10000,) y_true shape (10000,)\n"
     ]
    }
   ],
   "source": [
    "model = build_mlp(input_shape=x_train.shape[1:])\n",
    "model.summary()\n",
    "optimizer = keras.optimizers.SGD(lr=LEARNING_RATE, nesterov=True, momentum=MOMENTUM)\n",
    "model.compile(loss=\"categorical_crossentropy\", metrics=[\"accuracy\"], optimizer=optimizer)\n",
    "\n",
    "\"\"\"Code Here\n",
    "將 callbacks 放入模型訓練流程中\n",
    "\"\"\"\n",
    "model.fit(x_train, y_train, \n",
    "          epochs=EPOCHS, \n",
    "          batch_size=BATCH_SIZE, \n",
    "          validation_data=(x_test, y_test), \n",
    "          shuffle=True,\n",
    "          callbacks=[rec_tptn])\n",
    "\n",
    "# Collect results\n",
    "train_loss = model.history.history[\"loss\"]\n",
    "valid_loss = model.history.history[\"val_loss\"]\n",
    "train_acc = model.history.history[\"accuracy\"]\n",
    "valid_acc = model.history.history[\"val_accuracy\"]\n",
    "\n",
    "\"\"\"Code Here\n",
    "將 tp/tn 從訓練完的模型中取出\n",
    "\"\"\"\n",
    "valid_tp = model.history.history[\"val_tp\"]\n",
    "valid_tn = model.history.history[\"val_tn\"]\n"
   ]
  },
  {
   "cell_type": "code",
   "execution_count": 37,
   "metadata": {},
   "outputs": [
    {
     "name": "stdout",
     "output_type": "stream",
     "text": [
      "[False  True False False False  True]\n",
      "[False  True False False False  True]\n",
      "[False False False False  True False]\n",
      "[False False False False  True False]\n",
      "[False  True False False False  True]\n",
      "2\n",
      "1\n"
     ]
    }
   ],
   "source": [
    "#just test\n",
    "_y_true__ =np.array([3, 0, 8, 5, 1, 0])\n",
    "_y_pred__= np.array([5 ,0 ,8 , 5, 1, 0])\n",
    "print(_y_true__ == 0)\n",
    "print(_y_pred__ == 0)\n",
    "print(_y_true__ == 1)\n",
    "print(_y_pred__ == 1)\n",
    "print(np.logical_and(_y_pred__ == 0, _y_true__ == 0))\n",
    "print(np.sum(np.logical_and(_y_pred__ == 0, _y_true__ == 0)))\n",
    "print(np.sum(np.logical_and(_y_pred__ == 1, _y_true__ == 1)))"
   ]
  },
  {
   "cell_type": "code",
   "execution_count": 38,
   "metadata": {},
   "outputs": [
    {
     "data": {
      "image/png": "[encoded data removed]",
      "text/plain": [
       "<Figure size 432x288 with 1 Axes>"
      ]
     },
     "metadata": {
      "needs_background": "light"
     },
     "output_type": "display_data"
    },
    {
     "data": {
      "image/png": "[encoded data removed]",
      "text/plain": [
       "<Figure size 432x288 with 1 Axes>"
      ]
     },
     "metadata": {
      "needs_background": "light"
     },
     "output_type": "display_data"
    },
    {
     "data": {
      "image/png": "[encoded data removed]",
      "text/plain": [
       "<Figure size 432x288 with 1 Axes>"
      ]
     },
     "metadata": {
      "needs_background": "light"
     },
     "output_type": "display_data"
    }
   ],
   "source": [
    "import matplotlib.pyplot as plt\n",
    "%matplotlib inline\n",
    "\n",
    "plt.plot(range(len(train_loss)), train_loss, label=\"train loss\")\n",
    "plt.plot(range(len(valid_loss)), valid_loss, label=\"valid loss\")\n",
    "plt.legend()\n",
    "plt.title(\"Loss\")\n",
    "plt.show()\n",
    "\n",
    "plt.plot(range(len(train_acc)), train_acc, label=\"train accuracy\")\n",
    "plt.plot(range(len(valid_acc)), valid_acc, label=\"valid accuracy\")\n",
    "plt.legend()\n",
    "plt.title(\"Accuracy\")\n",
    "plt.show()\n",
    "\n",
    "plt.plot(range(len(valid_tp)), valid_tp, label=\"valid tp\", color=\"navy\")\n",
    "plt.plot(range(len(valid_tn)), valid_tn, label=\"valid tn\", color=\"red\")\n",
    "plt.legend()\n",
    "plt.title(\"True positives and True Negatives\")\n",
    "plt.show()\n"
   ]
  },
  {
   "cell_type": "code",
   "execution_count": null,
   "metadata": {},
   "outputs": [],
   "source": []
  }
 ],
 "metadata": {
  "kernelspec": {
   "display_name": "Python 3",
   "language": "python",
   "name": "python3"
  },
  "language_info": {
   "codemirror_mode": {
    "name": "ipython",
    "version": 3
   },
   "file_extension": ".py",
   "mimetype": "text/x-python",
   "name": "python",
   "nbconvert_exporter": "python",
   "pygments_lexer": "ipython3",
   "version": "3.7.5"
  }
 },
 "nbformat": 4,
 "nbformat_minor": 2
}
