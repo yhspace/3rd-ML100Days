{
 "cells": [
  {
   "cell_type": "markdown",
   "metadata": {},
   "source": [
    "# 作業重點:\n",
    "\n",
    "(1)以, Adam, 為例, 調整 batch_size, epoch , 觀察accurancy, loss 的變化\n",
    "\n",
    "(2)以同一模型, 分別驗證 SGD, Adam, Rmsprop 的 accurancy"
   ]
  },
  {
   "cell_type": "markdown",
   "metadata": {},
   "source": [
    "# 作業目標:\n",
    "    \n",
    "    取得各種優化器的運算結果"
   ]
  },
  {
   "cell_type": "code",
   "execution_count": 1,
   "metadata": {},
   "outputs": [
    {
     "name": "stderr",
     "output_type": "stream",
     "text": [
      "Using TensorFlow backend.\n",
      "C:\\Users\\User\\.conda\\envs\\tf1-gpu\\lib\\site-packages\\tensorflow\\python\\framework\\dtypes.py:516: FutureWarning: Passing (type, 1) or '1type' as a synonym of type is deprecated; in a future version of numpy, it will be understood as (type, (1,)) / '(1,)type'.\n",
      "  _np_qint8 = np.dtype([(\"qint8\", np.int8, 1)])\n",
      "C:\\Users\\User\\.conda\\envs\\tf1-gpu\\lib\\site-packages\\tensorflow\\python\\framework\\dtypes.py:517: FutureWarning: Passing (type, 1) or '1type' as a synonym of type is deprecated; in a future version of numpy, it will be understood as (type, (1,)) / '(1,)type'.\n",
      "  _np_quint8 = np.dtype([(\"quint8\", np.uint8, 1)])\n",
      "C:\\Users\\User\\.conda\\envs\\tf1-gpu\\lib\\site-packages\\tensorflow\\python\\framework\\dtypes.py:518: FutureWarning: Passing (type, 1) or '1type' as a synonym of type is deprecated; in a future version of numpy, it will be understood as (type, (1,)) / '(1,)type'.\n",
      "  _np_qint16 = np.dtype([(\"qint16\", np.int16, 1)])\n",
      "C:\\Users\\User\\.conda\\envs\\tf1-gpu\\lib\\site-packages\\tensorflow\\python\\framework\\dtypes.py:519: FutureWarning: Passing (type, 1) or '1type' as a synonym of type is deprecated; in a future version of numpy, it will be understood as (type, (1,)) / '(1,)type'.\n",
      "  _np_quint16 = np.dtype([(\"quint16\", np.uint16, 1)])\n",
      "C:\\Users\\User\\.conda\\envs\\tf1-gpu\\lib\\site-packages\\tensorflow\\python\\framework\\dtypes.py:520: FutureWarning: Passing (type, 1) or '1type' as a synonym of type is deprecated; in a future version of numpy, it will be understood as (type, (1,)) / '(1,)type'.\n",
      "  _np_qint32 = np.dtype([(\"qint32\", np.int32, 1)])\n",
      "C:\\Users\\User\\.conda\\envs\\tf1-gpu\\lib\\site-packages\\tensorflow\\python\\framework\\dtypes.py:525: FutureWarning: Passing (type, 1) or '1type' as a synonym of type is deprecated; in a future version of numpy, it will be understood as (type, (1,)) / '(1,)type'.\n",
      "  np_resource = np.dtype([(\"resource\", np.ubyte, 1)])\n",
      "C:\\Users\\User\\.conda\\envs\\tf1-gpu\\lib\\site-packages\\tensorboard\\compat\\tensorflow_stub\\dtypes.py:541: FutureWarning: Passing (type, 1) or '1type' as a synonym of type is deprecated; in a future version of numpy, it will be understood as (type, (1,)) / '(1,)type'.\n",
      "  _np_qint8 = np.dtype([(\"qint8\", np.int8, 1)])\n",
      "C:\\Users\\User\\.conda\\envs\\tf1-gpu\\lib\\site-packages\\tensorboard\\compat\\tensorflow_stub\\dtypes.py:542: FutureWarning: Passing (type, 1) or '1type' as a synonym of type is deprecated; in a future version of numpy, it will be understood as (type, (1,)) / '(1,)type'.\n",
      "  _np_quint8 = np.dtype([(\"quint8\", np.uint8, 1)])\n",
      "C:\\Users\\User\\.conda\\envs\\tf1-gpu\\lib\\site-packages\\tensorboard\\compat\\tensorflow_stub\\dtypes.py:543: FutureWarning: Passing (type, 1) or '1type' as a synonym of type is deprecated; in a future version of numpy, it will be understood as (type, (1,)) / '(1,)type'.\n",
      "  _np_qint16 = np.dtype([(\"qint16\", np.int16, 1)])\n",
      "C:\\Users\\User\\.conda\\envs\\tf1-gpu\\lib\\site-packages\\tensorboard\\compat\\tensorflow_stub\\dtypes.py:544: FutureWarning: Passing (type, 1) or '1type' as a synonym of type is deprecated; in a future version of numpy, it will be understood as (type, (1,)) / '(1,)type'.\n",
      "  _np_quint16 = np.dtype([(\"quint16\", np.uint16, 1)])\n",
      "C:\\Users\\User\\.conda\\envs\\tf1-gpu\\lib\\site-packages\\tensorboard\\compat\\tensorflow_stub\\dtypes.py:545: FutureWarning: Passing (type, 1) or '1type' as a synonym of type is deprecated; in a future version of numpy, it will be understood as (type, (1,)) / '(1,)type'.\n",
      "  _np_qint32 = np.dtype([(\"qint32\", np.int32, 1)])\n",
      "C:\\Users\\User\\.conda\\envs\\tf1-gpu\\lib\\site-packages\\tensorboard\\compat\\tensorflow_stub\\dtypes.py:550: FutureWarning: Passing (type, 1) or '1type' as a synonym of type is deprecated; in a future version of numpy, it will be understood as (type, (1,)) / '(1,)type'.\n",
      "  np_resource = np.dtype([(\"resource\", np.ubyte, 1)])\n"
     ]
    }
   ],
   "source": [
    "from __future__ import print_function\n",
    "import keras\n",
    "from keras.datasets import cifar10\n",
    "from keras.preprocessing.image import ImageDataGenerator\n",
    "from keras.models import Sequential\n",
    "from keras.layers import Dense, Dropout, Activation, Flatten\n",
    "from keras.layers import Conv2D, MaxPooling2D\n",
    "import os\n",
    "from keras import optimizers\n"
   ]
  },
  {
   "cell_type": "code",
   "execution_count": 24,
   "metadata": {},
   "outputs": [],
   "source": [
    "# Blas GEMM launch failed , 避免動態分配GPU / CPU, 出現問題\n",
    "import tensorflow as tf\n",
    "gpu_options = tf.GPUOptions(per_process_gpu_memory_fraction=0.9)\n",
    "sess = tf.Session(config=tf.ConfigProto(gpu_options=gpu_options))\n"
   ]
  },
  {
   "cell_type": "code",
   "execution_count": 3,
   "metadata": {},
   "outputs": [],
   "source": [
    "\n",
    "'''\n",
    "   宣告並設定\n",
    "   batch_size：對總的樣本數進行分組，每組包含的樣本數量\n",
    "   epochs ：訓練次數\n",
    "   \n",
    "''' \n",
    "\n",
    "batch_size = 32\n",
    "num_classes = 10\n",
    "epochs = 20\n",
    "data_augmentation = True\n",
    "# data_augmentation = False\n",
    "\n",
    "num_predictions = 20\n",
    "save_dir = os.path.join(os.getcwd(), 'saved_models')\n",
    "model_name = 'keras_cifar10_trained_modelHW.h5'\n"
   ]
  },
  {
   "cell_type": "code",
   "execution_count": 4,
   "metadata": {},
   "outputs": [
    {
     "name": "stdout",
     "output_type": "stream",
     "text": [
      "x_train shape: (50000, 32, 32, 3)\n",
      "50000 train samples\n",
      "10000 test samples\n"
     ]
    }
   ],
   "source": [
    "\n",
    "# The data, split between train and test sets:\n",
    "(x_train, y_train), (x_test, y_test) = cifar10.load_data()\n",
    "print('x_train shape:', x_train.shape)\n",
    "print(x_train.shape[0], 'train samples')\n",
    "print(x_test.shape[0], 'test samples')\n",
    "\n",
    "# Convert class vectors to binary class matrices.\n",
    "y_train = keras.utils.to_categorical(y_train, num_classes)\n",
    "y_test = keras.utils.to_categorical(y_test, num_classes)"
   ]
  },
  {
   "cell_type": "code",
   "execution_count": 6,
   "metadata": {},
   "outputs": [
    {
     "name": "stdout",
     "output_type": "stream",
     "text": [
      "WARNING:tensorflow:From C:\\Users\\User\\.conda\\envs\\tf1-gpu\\lib\\site-packages\\keras\\backend\\tensorflow_backend.py:4070: The name tf.nn.max_pool is deprecated. Please use tf.nn.max_pool2d instead.\n",
      "\n"
     ]
    }
   ],
   "source": [
    "#    第一步：選擇模型, 順序模型是多個網絡層的線性堆疊\n",
    " \n",
    "model = Sequential()\n",
    "\n",
    "#   第二步：構建網絡層\n",
    "model.add(Conv2D(32, (3, 3), padding='same',\n",
    "                 input_shape=x_train.shape[1:]))\n",
    "model.add(Activation('relu'))\n",
    "model.add(Conv2D(32, (3, 3)))\n",
    "model.add(Activation('relu'))\n",
    "model.add(MaxPooling2D(pool_size=(2, 2)))\n",
    "model.add(Dropout(0.25))\n",
    "\n",
    "model.add(Conv2D(64, (3, 3), padding='same'))\n",
    "model.add(Activation('relu'))\n",
    "model.add(Conv2D(64, (3, 3)))\n",
    "model.add(Activation('relu'))\n",
    "model.add(MaxPooling2D(pool_size=(2, 2)))\n",
    "model.add(Dropout(0.25))\n",
    "\n",
    "model.add(Flatten())\n",
    "model.add(Dense(512))\n",
    "model.add(Activation('relu'))\n",
    "model.add(Dropout(0.5))\n",
    "\n",
    "model.add(Dense( 10)) # 輸出結果是10個類別，所以維度是10   \n",
    "model.add(Activation('softmax')) # 最後一層用softmax作為激活函數"
   ]
  },
  {
   "cell_type": "code",
   "execution_count": 7,
   "metadata": {},
   "outputs": [
    {
     "name": "stdout",
     "output_type": "stream",
     "text": [
      "Total Parameters：1250858\n"
     ]
    }
   ],
   "source": [
    "# 模型建立完成後，統計參數總量\n",
    "print(\"Total Parameters：%d\" % model.count_params())"
   ]
  },
  {
   "cell_type": "code",
   "execution_count": 8,
   "metadata": {},
   "outputs": [
    {
     "name": "stdout",
     "output_type": "stream",
     "text": [
      "Model: \"sequential_1\"\n",
      "_________________________________________________________________\n",
      "Layer (type)                 Output Shape              Param #   \n",
      "=================================================================\n",
      "conv2d_1 (Conv2D)            (None, 32, 32, 32)        896       \n",
      "_________________________________________________________________\n",
      "activation_1 (Activation)    (None, 32, 32, 32)        0         \n",
      "_________________________________________________________________\n",
      "conv2d_2 (Conv2D)            (None, 30, 30, 32)        9248      \n",
      "_________________________________________________________________\n",
      "activation_2 (Activation)    (None, 30, 30, 32)        0         \n",
      "_________________________________________________________________\n",
      "max_pooling2d_1 (MaxPooling2 (None, 15, 15, 32)        0         \n",
      "_________________________________________________________________\n",
      "dropout_1 (Dropout)          (None, 15, 15, 32)        0         \n",
      "_________________________________________________________________\n",
      "conv2d_3 (Conv2D)            (None, 15, 15, 64)        18496     \n",
      "_________________________________________________________________\n",
      "activation_3 (Activation)    (None, 15, 15, 64)        0         \n",
      "_________________________________________________________________\n",
      "conv2d_4 (Conv2D)            (None, 13, 13, 64)        36928     \n",
      "_________________________________________________________________\n",
      "activation_4 (Activation)    (None, 13, 13, 64)        0         \n",
      "_________________________________________________________________\n",
      "max_pooling2d_2 (MaxPooling2 (None, 6, 6, 64)          0         \n",
      "_________________________________________________________________\n",
      "dropout_2 (Dropout)          (None, 6, 6, 64)          0         \n",
      "_________________________________________________________________\n",
      "flatten_1 (Flatten)          (None, 2304)              0         \n",
      "_________________________________________________________________\n",
      "dense_1 (Dense)              (None, 512)               1180160   \n",
      "_________________________________________________________________\n",
      "activation_5 (Activation)    (None, 512)               0         \n",
      "_________________________________________________________________\n",
      "dropout_3 (Dropout)          (None, 512)               0         \n",
      "_________________________________________________________________\n",
      "dense_2 (Dense)              (None, 10)                5130      \n",
      "_________________________________________________________________\n",
      "activation_6 (Activation)    (None, 10)                0         \n",
      "=================================================================\n",
      "Total params: 1,250,858\n",
      "Trainable params: 1,250,858\n",
      "Non-trainable params: 0\n",
      "_________________________________________________________________\n"
     ]
    }
   ],
   "source": [
    "# 輸出模型摘要資訊\n",
    "model.summary()"
   ]
  },
  {
   "cell_type": "markdown",
   "metadata": {},
   "source": [
    "# RMSprop"
   ]
  },
  {
   "cell_type": "code",
   "execution_count": 9,
   "metadata": {},
   "outputs": [],
   "source": [
    "#第三步編譯\n",
    "'''\n",
    "SGD(隨機梯度下降) - Arguments\n",
    "lr: float >= 0. Learning rate.\n",
    "momentum: float >= 0. Parameter that accelerates SGD in the relevant direction and dampens oscillations.\n",
    "decay: float >= 0. Learning rate decay over each update.\n",
    "nesterov: boolean. Whether to apply Nesterov momentum.\n",
    "'''\n",
    "\n",
    "'''\n",
    "RMSprop- Arguments\n",
    "lr: float >= 0. Learning rate.\n",
    "rho: float >= 0.\n",
    "epsilon: float >= 0. Fuzz factor. If None, defaults to K.epsilon().\n",
    "decay: float >= 0. Learning rate decay over each update.\n",
    "'''\n",
    "\n",
    "'''\n",
    "Example:\n",
    "opt = optimizers.SGD(lr=0.01, decay=1e-6, momentum=0.9, nesterov=True)\n",
    "\n",
    "'''\n",
    "# opt = optimizers.RMSprop(lr=0.01, decay=1e-6)\n",
    "\n",
    "model.compile(optimizer = 'RMSprop', loss = 'categorical_crossentropy', metrics = ['accuracy'])\n"
   ]
  },
  {
   "cell_type": "code",
   "execution_count": 10,
   "metadata": {},
   "outputs": [],
   "source": [
    "# 資料正規化\n",
    "x_train = x_train.astype('float32')\n",
    "x_test = x_test.astype('float32')\n",
    "x_train /= 255\n",
    "x_test /= 255\n"
   ]
  },
  {
   "cell_type": "code",
   "execution_count": 11,
   "metadata": {},
   "outputs": [
    {
     "name": "stdout",
     "output_type": "stream",
     "text": [
      "Using real-time data augmentation.\n",
      "\n",
      "WARNING:tensorflow:From C:\\Users\\User\\.conda\\envs\\tf1-gpu\\lib\\site-packages\\keras\\backend\\tensorflow_backend.py:422: The name tf.global_variables is deprecated. Please use tf.compat.v1.global_variables instead.\n",
      "\n",
      "Train on 50000 samples, validate on 10000 samples\n",
      "Epoch 1/20\n",
      "50000/50000 [==============================] - 25s 499us/step - loss: 1.5195 - accuracy: 0.4531 - val_loss: 1.1651 - val_accuracy: 0.5816\n",
      "Epoch 2/20\n",
      "50000/50000 [==============================] - 23s 453us/step - loss: 1.1161 - accuracy: 0.6055 - val_loss: 1.2905 - val_accuracy: 0.5993\n",
      "Epoch 3/20\n",
      "50000/50000 [==============================] - 22s 432us/step - loss: 1.0086 - accuracy: 0.6535 - val_loss: 1.0808 - val_accuracy: 0.6602\n",
      "Epoch 4/20\n",
      "50000/50000 [==============================] - 24s 484us/step - loss: 0.9750 - accuracy: 0.6728 - val_loss: 1.3091 - val_accuracy: 0.6031\n",
      "Epoch 5/20\n",
      "50000/50000 [==============================] - 25s 506us/step - loss: 0.9957 - accuracy: 0.6673 - val_loss: 0.9145 - val_accuracy: 0.7083\n",
      "Epoch 6/20\n",
      "50000/50000 [==============================] - 21s 422us/step - loss: 1.0173 - accuracy: 0.6662 - val_loss: 1.1057 - val_accuracy: 0.6038\n",
      "Epoch 7/20\n",
      "50000/50000 [==============================] - 22s 440us/step - loss: 1.0649 - accuracy: 0.6565 - val_loss: 1.1525 - val_accuracy: 0.6202\n",
      "Epoch 8/20\n",
      "50000/50000 [==============================] - 22s 446us/step - loss: 1.0923 - accuracy: 0.6464 - val_loss: 1.1506 - val_accuracy: 0.6027\n",
      "Epoch 9/20\n",
      "50000/50000 [==============================] - 22s 435us/step - loss: 1.1443 - accuracy: 0.6315 - val_loss: 1.1350 - val_accuracy: 0.6392\n",
      "Epoch 10/20\n",
      "50000/50000 [==============================] - 22s 432us/step - loss: 1.1863 - accuracy: 0.6226 - val_loss: 2.1933 - val_accuracy: 0.5695\n",
      "Epoch 11/20\n",
      "50000/50000 [==============================] - 29s 585us/step - loss: 1.2372 - accuracy: 0.6034 - val_loss: 1.1204 - val_accuracy: 0.6509\n",
      "Epoch 12/20\n",
      "50000/50000 [==============================] - 30s 596us/step - loss: 1.2701 - accuracy: 0.5926 - val_loss: 1.2130 - val_accuracy: 0.5957\n",
      "Epoch 13/20\n",
      "50000/50000 [==============================] - 25s 493us/step - loss: 1.2957 - accuracy: 0.5837 - val_loss: 1.0879 - val_accuracy: 0.6313\n",
      "Epoch 14/20\n",
      "50000/50000 [==============================] - 30s 604us/step - loss: 1.3548 - accuracy: 0.5654 - val_loss: 1.0307 - val_accuracy: 0.6458\n",
      "Epoch 15/20\n",
      "50000/50000 [==============================] - 29s 575us/step - loss: 1.3716 - accuracy: 0.5557 - val_loss: 1.2076 - val_accuracy: 0.5956\n",
      "Epoch 16/20\n",
      "50000/50000 [==============================] - 26s 523us/step - loss: 1.4378 - accuracy: 0.5363 - val_loss: 1.4568 - val_accuracy: 0.5086\n",
      "Epoch 17/20\n",
      "50000/50000 [==============================] - 32s 642us/step - loss: 1.4664 - accuracy: 0.5278 - val_loss: 1.3466 - val_accuracy: 0.5356\n",
      "Epoch 18/20\n",
      "50000/50000 [==============================] - 31s 617us/step - loss: 1.4969 - accuracy: 0.5160 - val_loss: 1.2659 - val_accuracy: 0.5823\n",
      "Epoch 19/20\n",
      "50000/50000 [==============================] - 32s 632us/step - loss: 1.5741 - accuracy: 0.4888 - val_loss: 1.3322 - val_accuracy: 0.5370\n",
      "Epoch 20/20\n",
      "50000/50000 [==============================] - 29s 588us/step - loss: 1.6784 - accuracy: 0.4570 - val_loss: 1.5348 - val_accuracy: 0.4675\n"
     ]
    },
    {
     "data": {
      "text/plain": [
       "'\\n   第四步：訓練\\n   .fit的一些參數\\n   batch_size：對總的樣本數進行分組，每組包含的樣本數量\\n   epochs ：訓練次數\\n   shuffle：是否把數據隨機打亂之後再進行訓練\\n   validation_split：拿出百分之多少用來做交叉驗證\\n   verbose：屏顯模式 - 0：不輸出, 1：輸出進度, 2：輸出每次的訓練結果\\n'"
      ]
     },
     "execution_count": 11,
     "metadata": {},
     "output_type": "execute_result"
    }
   ],
   "source": [
    "# 是否要做資料處理\n",
    "if not data_augmentation:\n",
    "    print('Not using data augmentation.')\n",
    "    history=model.fit(x_train, y_train,\n",
    "              batch_size=batch_size,\n",
    "              epochs=epochs,\n",
    "              validation_data=(x_test, y_test),\n",
    "              shuffle=True)\n",
    "else:\n",
    "    print('Using real-time data augmentation.')\n",
    "    print('')\n",
    "        \n",
    "    # This will do preprocessing and realtime data augmentation:\n",
    "    datagen = ImageDataGenerator(\n",
    "        featurewise_center=False,  # set input mean to 0 over the dataset\n",
    "        samplewise_center=False,  # set each sample mean to 0\n",
    "        featurewise_std_normalization=False,  # divide inputs by std of the dataset\n",
    "        samplewise_std_normalization=False,  # divide each input by its std\n",
    "        zca_whitening=False,  # apply ZCA whitening\n",
    "        zca_epsilon=1e-06,  # epsilon for ZCA whitening\n",
    "        rotation_range=0,  # randomly rotate images in the range (degrees, 0 to 180)\n",
    "        # randomly shift images horizontally (fraction of total width)\n",
    "        width_shift_range=0.1,\n",
    "        # randomly shift images vertically (fraction of total height)\n",
    "        height_shift_range=0.1,\n",
    "        shear_range=0.,  # set range for random shear\n",
    "        zoom_range=0.,  # set range for random zoom\n",
    "        channel_shift_range=0.,  # set range for random channel shifts\n",
    "        # set mode for filling points outside the input boundaries\n",
    "        fill_mode='nearest',\n",
    "        cval=0.,  # value used for fill_mode = \"constant\"\n",
    "        horizontal_flip=True,  # randomly flip images\n",
    "        vertical_flip=False,  # randomly flip images\n",
    "        # set rescaling factor (applied before any other transformation)\n",
    "        rescale=None,\n",
    "        # set function that will be applied on each input\n",
    "        preprocessing_function=None,\n",
    "        # image data format, either \"channels_first\" or \"channels_last\"\n",
    "        data_format=None,\n",
    "        # fraction of images reserved for validation (strictly between 0 and 1)\n",
    "        validation_split=0.0)\n",
    "\n",
    "    # Compute quantities required for feature-wise normalization\n",
    "    # (std, mean, and principal components if ZCA whitening is applied).\n",
    "    datagen.fit(x_train)\n",
    "    history=model.fit(x_train, y_train,\n",
    "              batch_size=batch_size,\n",
    "              epochs=epochs,\n",
    "              validation_data=(x_test, y_test),\n",
    "              shuffle=True)   \n",
    "\n",
    "'''\n",
    "   第四步：訓練\n",
    "   .fit的一些參數\n",
    "   batch_size：對總的樣本數進行分組，每組包含的樣本數量\n",
    "   epochs ：訓練次數\n",
    "   shuffle：是否把數據隨機打亂之後再進行訓練\n",
    "   validation_split：拿出百分之多少用來做交叉驗證\n",
    "   verbose：屏顯模式 - 0：不輸出, 1：輸出進度, 2：輸出每次的訓練結果\n",
    "''' \n",
    "    "
   ]
  },
  {
   "cell_type": "code",
   "execution_count": 12,
   "metadata": {},
   "outputs": [
    {
     "name": "stdout",
     "output_type": "stream",
     "text": [
      "Saved trained model at D:\\yh\\workdir\\saved_models\\keras_cifar10_trained_modelHW.h5 \n",
      "10000/10000 [==============================] - 12s 1ms/step\n",
      "Test loss: 1.5348062383651733\n",
      "Test accuracy: 0.4675000011920929\n"
     ]
    }
   ],
   "source": [
    "# Save model and weights\n",
    "if not os.path.isdir(save_dir):\n",
    "    os.makedirs(save_dir)\n",
    "model_path = os.path.join(save_dir, model_name)\n",
    "model.save(model_path)\n",
    "print('Saved trained model at %s ' % model_path)\n",
    "\n",
    "# Score trained model.\n",
    "scores = model.evaluate(x_test, y_test, verbose=1)\n",
    "print('Test loss:', scores[0])\n",
    "print('Test accuracy:', scores[1])"
   ]
  },
  {
   "cell_type": "code",
   "execution_count": 13,
   "metadata": {},
   "outputs": [
    {
     "name": "stdout",
     "output_type": "stream",
     "text": [
      " test set \n",
      "\n",
      " The test loss is %f  [1.5348062491416932, 0.4675000011920929]\n"
     ]
    }
   ],
   "source": [
    "#    第六步：輸出\n",
    "import numpy \n",
    "\n",
    "print ( \" test set \" )\n",
    "scores = model.evaluate(x_test,y_test,batch_size=200,verbose= 0)\n",
    "print ( \"\" )\n",
    "#print ( \" The test loss is %f \" % scores)\n",
    "print ( \" The test loss is %f \", scores)\n",
    "\n",
    "\n",
    "result = model.predict(x_test,batch_size=200,verbose= 0)\n",
    "\n",
    "result_max = numpy.argmax(result, axis = 1 )\n",
    "test_max = numpy.argmax(y_test, axis = 1 )\n",
    "\n",
    "result_bool = numpy.equal(result_max, test_max)\n",
    "true_num = numpy.sum(result_bool)\n"
   ]
  },
  {
   "cell_type": "code",
   "execution_count": 14,
   "metadata": {},
   "outputs": [
    {
     "data": {
      "image/png": "[encoded data removed]",
      "text/plain": [
       "<Figure size 432x288 with 1 Axes>"
      ]
     },
     "metadata": {
      "needs_background": "light"
     },
     "output_type": "display_data"
    },
    {
     "data": {
      "image/png": "[encoded data removed]",
      "text/plain": [
       "<Figure size 432x288 with 1 Axes>"
      ]
     },
     "metadata": {
      "needs_background": "light"
     },
     "output_type": "display_data"
    }
   ],
   "source": [
    "import matplotlib.pyplot as plt\n",
    "%matplotlib inline\n",
    "\n",
    "# Plot training & validation accuracy values\n",
    "plt.plot(history.history['accuracy'])\n",
    "plt.plot(history.history['val_accuracy'])\n",
    "plt.title('Model accuracy')\n",
    "plt.ylabel('Accuracy')\n",
    "plt.xlabel('Epoch')\n",
    "plt.legend(['Train', 'Valiidation'], loc='upper left')\n",
    "plt.show()\n",
    "\n",
    "# Plot training & validation loss values\n",
    "plt.plot(history.history['loss'])\n",
    "plt.plot(history.history['val_loss'])\n",
    "plt.title('Model loss')\n",
    "plt.ylabel('Loss')\n",
    "plt.xlabel('Epoch')\n",
    "plt.legend(['Train', 'Valiidation'], loc='upper left')\n",
    "plt.show()"
   ]
  },
  {
   "cell_type": "markdown",
   "metadata": {},
   "source": [
    "# SGD"
   ]
  },
  {
   "cell_type": "code",
   "execution_count": 22,
   "metadata": {},
   "outputs": [],
   "source": [
    "\n",
    "model = Sequential()\n",
    "\n",
    "#   第二步：構建網絡層\n",
    "model.add(Conv2D(32, (3, 3), padding='same',\n",
    "                 input_shape=x_train.shape[1:]))\n",
    "model.add(Activation('relu'))\n",
    "model.add(Conv2D(32, (3, 3)))\n",
    "model.add(Activation('relu'))\n",
    "model.add(MaxPooling2D(pool_size=(2, 2)))\n",
    "model.add(Dropout(0.25))\n",
    "\n",
    "model.add(Conv2D(64, (3, 3), padding='same'))\n",
    "model.add(Activation('relu'))\n",
    "model.add(Conv2D(64, (3, 3)))\n",
    "model.add(Activation('relu'))\n",
    "model.add(MaxPooling2D(pool_size=(2, 2)))\n",
    "model.add(Dropout(0.25))\n",
    "\n",
    "model.add(Flatten())\n",
    "model.add(Dense(512))\n",
    "model.add(Activation('relu'))\n",
    "model.add(Dropout(0.5))\n",
    "\n",
    "model.add(Dense( 10)) # 輸出結果是10個類別，所以維度是10   \n",
    "model.add(Activation('softmax')) # 最後一層用softmax作為激活函數\n",
    "# opt = optimizers.SGD(lr=0.01, decay=1e-6, momentum=0.9, nesterov=True)\n",
    "model.compile(optimizer = 'SGD', loss = 'categorical_crossentropy', metrics = ['accuracy'])"
   ]
  },
  {
   "cell_type": "code",
   "execution_count": 25,
   "metadata": {},
   "outputs": [
    {
     "name": "stdout",
     "output_type": "stream",
     "text": [
      "Not using data augmentation.\n",
      "Train on 50000 samples, validate on 10000 samples\n",
      "Epoch 1/20\n",
      "50000/50000 [==============================] - 28s 557us/step - loss: 1.6316 - accuracy: 0.4073 - val_loss: 1.5459 - val_accuracy: 0.4383\n",
      "Epoch 2/20\n",
      "50000/50000 [==============================] - 27s 531us/step - loss: 1.4978 - accuracy: 0.4572 - val_loss: 1.3367 - val_accuracy: 0.5195\n",
      "Epoch 3/20\n",
      "50000/50000 [==============================] - 26s 527us/step - loss: 1.4000 - accuracy: 0.4946 - val_loss: 1.2900 - val_accuracy: 0.5427\n",
      "Epoch 4/20\n",
      "50000/50000 [==============================] - 21s 426us/step - loss: 1.3237 - accuracy: 0.5249 - val_loss: 1.2163 - val_accuracy: 0.5682\n",
      "Epoch 5/20\n",
      "50000/50000 [==============================] - 30s 596us/step - loss: 1.2601 - accuracy: 0.5507 - val_loss: 1.2475 - val_accuracy: 0.5545\n",
      "Epoch 6/20\n",
      "50000/50000 [==============================] - 27s 539us/step - loss: 1.2067 - accuracy: 0.5719 - val_loss: 1.1283 - val_accuracy: 0.5979\n",
      "Epoch 7/20\n",
      "50000/50000 [==============================] - 26s 517us/step - loss: 1.1583 - accuracy: 0.5908 - val_loss: 1.0464 - val_accuracy: 0.6281\n",
      "Epoch 8/20\n",
      "50000/50000 [==============================] - 29s 576us/step - loss: 1.1145 - accuracy: 0.6059 - val_loss: 1.0287 - val_accuracy: 0.6397\n",
      "Epoch 9/20\n",
      "50000/50000 [==============================] - 27s 547us/step - loss: 1.0722 - accuracy: 0.6221 - val_loss: 0.9933 - val_accuracy: 0.6490\n",
      "Epoch 10/20\n",
      "50000/50000 [==============================] - 27s 541us/step - loss: 1.0287 - accuracy: 0.6348 - val_loss: 0.9778 - val_accuracy: 0.6547\n",
      "Epoch 11/20\n",
      "50000/50000 [==============================] - 26s 525us/step - loss: 0.9977 - accuracy: 0.6496 - val_loss: 0.9427 - val_accuracy: 0.6682\n",
      "Epoch 12/20\n",
      "50000/50000 [==============================] - 31s 618us/step - loss: 0.9718 - accuracy: 0.6567 - val_loss: 0.8959 - val_accuracy: 0.6879\n",
      "Epoch 13/20\n",
      "50000/50000 [==============================] - 25s 509us/step - loss: 0.9401 - accuracy: 0.6678 - val_loss: 0.8777 - val_accuracy: 0.6956\n",
      "Epoch 14/20\n",
      "50000/50000 [==============================] - 27s 549us/step - loss: 0.9071 - accuracy: 0.6797 - val_loss: 0.9518 - val_accuracy: 0.6702\n",
      "Epoch 15/20\n",
      "50000/50000 [==============================] - 27s 538us/step - loss: 0.8855 - accuracy: 0.6886 - val_loss: 0.8809 - val_accuracy: 0.6911\n",
      "Epoch 16/20\n",
      "50000/50000 [==============================] - 29s 588us/step - loss: 0.8637 - accuracy: 0.6964 - val_loss: 0.8243 - val_accuracy: 0.7118\n",
      "Epoch 17/20\n",
      "50000/50000 [==============================] - 26s 529us/step - loss: 0.8417 - accuracy: 0.7066 - val_loss: 0.8033 - val_accuracy: 0.7195\n",
      "Epoch 18/20\n",
      "50000/50000 [==============================] - 30s 594us/step - loss: 0.8161 - accuracy: 0.7121 - val_loss: 0.7889 - val_accuracy: 0.7269\n",
      "Epoch 19/20\n",
      "50000/50000 [==============================] - 23s 454us/step - loss: 0.7984 - accuracy: 0.7186 - val_loss: 0.7555 - val_accuracy: 0.7382\n",
      "Epoch 20/20\n",
      "50000/50000 [==============================] - 26s 525us/step - loss: 0.7804 - accuracy: 0.7256 - val_loss: 0.8520 - val_accuracy: 0.7034\n"
     ]
    }
   ],
   "source": [
    "print('Not using data augmentation.')\n",
    "history=model.fit(x_train, y_train,\n",
    "          batch_size=batch_size,\n",
    "          epochs=epochs,\n",
    "          validation_data=(x_test, y_test),\n",
    "          shuffle=True)"
   ]
  },
  {
   "cell_type": "code",
   "execution_count": 26,
   "metadata": {},
   "outputs": [
    {
     "data": {
      "image/png": "[encoded data removed]",
      "text/plain": [
       "<Figure size 432x288 with 1 Axes>"
      ]
     },
     "metadata": {
      "needs_background": "light"
     },
     "output_type": "display_data"
    },
    {
     "data": {
      "image/png": "[encoded data removed]",
      "text/plain": [
       "<Figure size 432x288 with 1 Axes>"
      ]
     },
     "metadata": {
      "needs_background": "light"
     },
     "output_type": "display_data"
    }
   ],
   "source": [
    "import matplotlib.pyplot as plt\n",
    "%matplotlib inline\n",
    "\n",
    "# Plot training & validation accuracy values\n",
    "plt.plot(history.history['accuracy'])\n",
    "plt.plot(history.history['val_accuracy'])\n",
    "plt.title('Model accuracy')\n",
    "plt.ylabel('Accuracy')\n",
    "plt.xlabel('Epoch')\n",
    "plt.legend(['Train', 'Valiidation'], loc='upper left')\n",
    "plt.show()\n",
    "\n",
    "# Plot training & validation loss values\n",
    "plt.plot(history.history['loss'])\n",
    "plt.plot(history.history['val_loss'])\n",
    "plt.title('Model loss')\n",
    "plt.ylabel('Loss')\n",
    "plt.xlabel('Epoch')\n",
    "plt.legend(['Train', 'Valiidation'], loc='upper left')\n",
    "plt.show()"
   ]
  },
  {
   "cell_type": "markdown",
   "metadata": {},
   "source": [
    "# Adam"
   ]
  },
  {
   "cell_type": "code",
   "execution_count": 27,
   "metadata": {},
   "outputs": [],
   "source": [
    "\n",
    "model = Sequential()\n",
    "\n",
    "#   第二步：構建網絡層\n",
    "model.add(Conv2D(32, (3, 3), padding='same',\n",
    "                 input_shape=x_train.shape[1:]))\n",
    "model.add(Activation('relu'))\n",
    "model.add(Conv2D(32, (3, 3)))\n",
    "model.add(Activation('relu'))\n",
    "model.add(MaxPooling2D(pool_size=(2, 2)))\n",
    "model.add(Dropout(0.25))\n",
    "\n",
    "model.add(Conv2D(64, (3, 3), padding='same'))\n",
    "model.add(Activation('relu'))\n",
    "model.add(Conv2D(64, (3, 3)))\n",
    "model.add(Activation('relu'))\n",
    "model.add(MaxPooling2D(pool_size=(2, 2)))\n",
    "model.add(Dropout(0.25))\n",
    "\n",
    "model.add(Flatten())\n",
    "model.add(Dense(512))\n",
    "model.add(Activation('relu'))\n",
    "model.add(Dropout(0.5))\n",
    "\n",
    "model.add(Dense( 10)) # 輸出結果是10個類別，所以維度是10   \n",
    "model.add(Activation('softmax')) # 最後一層用softmax作為激活函數\n",
    "model.compile(optimizer = 'adam', loss = 'categorical_crossentropy', metrics = ['accuracy'])"
   ]
  },
  {
   "cell_type": "code",
   "execution_count": 28,
   "metadata": {},
   "outputs": [
    {
     "name": "stdout",
     "output_type": "stream",
     "text": [
      "Not using data augmentation.\n",
      "Train on 50000 samples, validate on 10000 samples\n",
      "Epoch 1/20\n",
      "50000/50000 [==============================] - 29s 587us/step - loss: 1.4973 - accuracy: 0.4555 - val_loss: 1.1579 - val_accuracy: 0.5921\n",
      "Epoch 2/20\n",
      "50000/50000 [==============================] - 30s 597us/step - loss: 1.1002 - accuracy: 0.6109 - val_loss: 0.9364 - val_accuracy: 0.6714\n",
      "Epoch 3/20\n",
      "50000/50000 [==============================] - 33s 658us/step - loss: 0.9543 - accuracy: 0.6631 - val_loss: 0.8513 - val_accuracy: 0.7060\n",
      "Epoch 4/20\n",
      "50000/50000 [==============================] - 29s 585us/step - loss: 0.8662 - accuracy: 0.6955 - val_loss: 0.7673 - val_accuracy: 0.7314\n",
      "Epoch 5/20\n",
      "50000/50000 [==============================] - 32s 642us/step - loss: 0.7979 - accuracy: 0.7164 - val_loss: 0.7425 - val_accuracy: 0.7418\n",
      "Epoch 6/20\n",
      "50000/50000 [==============================] - 29s 588us/step - loss: 0.7506 - accuracy: 0.7378 - val_loss: 0.7029 - val_accuracy: 0.7582\n",
      "Epoch 7/20\n",
      "50000/50000 [==============================] - 30s 593us/step - loss: 0.7051 - accuracy: 0.7544 - val_loss: 0.6748 - val_accuracy: 0.7681\n",
      "Epoch 8/20\n",
      "50000/50000 [==============================] - 30s 604us/step - loss: 0.6781 - accuracy: 0.7627 - val_loss: 0.6740 - val_accuracy: 0.7706\n",
      "Epoch 9/20\n",
      "50000/50000 [==============================] - 29s 576us/step - loss: 0.6527 - accuracy: 0.7705 - val_loss: 0.6809 - val_accuracy: 0.7701\n",
      "Epoch 10/20\n",
      "50000/50000 [==============================] - 32s 630us/step - loss: 0.6265 - accuracy: 0.7798 - val_loss: 0.6620 - val_accuracy: 0.7775\n",
      "Epoch 11/20\n",
      "50000/50000 [==============================] - 25s 507us/step - loss: 0.6042 - accuracy: 0.7874 - val_loss: 0.6695 - val_accuracy: 0.7693\n",
      "Epoch 12/20\n",
      "50000/50000 [==============================] - 31s 629us/step - loss: 0.5807 - accuracy: 0.7952 - val_loss: 0.6562 - val_accuracy: 0.7798\n",
      "Epoch 13/20\n",
      "50000/50000 [==============================] - 28s 569us/step - loss: 0.5651 - accuracy: 0.8010 - val_loss: 0.6505 - val_accuracy: 0.7831\n",
      "Epoch 14/20\n",
      "50000/50000 [==============================] - 27s 550us/step - loss: 0.5535 - accuracy: 0.8065 - val_loss: 0.6669 - val_accuracy: 0.7774\n",
      "Epoch 15/20\n",
      "50000/50000 [==============================] - 28s 562us/step - loss: 0.5326 - accuracy: 0.8140 - val_loss: 0.6360 - val_accuracy: 0.7862\n",
      "Epoch 16/20\n",
      "50000/50000 [==============================] - 30s 591us/step - loss: 0.5231 - accuracy: 0.8146 - val_loss: 0.6478 - val_accuracy: 0.7849\n",
      "Epoch 17/20\n",
      "50000/50000 [==============================] - 28s 561us/step - loss: 0.5160 - accuracy: 0.8188 - val_loss: 0.6622 - val_accuracy: 0.7756\n",
      "Epoch 18/20\n",
      "50000/50000 [==============================] - 31s 628us/step - loss: 0.5046 - accuracy: 0.8224 - val_loss: 0.6635 - val_accuracy: 0.7826\n",
      "Epoch 19/20\n",
      "50000/50000 [==============================] - 30s 602us/step - loss: 0.4879 - accuracy: 0.8287 - val_loss: 0.6468 - val_accuracy: 0.7917\n",
      "Epoch 20/20\n",
      "50000/50000 [==============================] - 28s 557us/step - loss: 0.4731 - accuracy: 0.8322 - val_loss: 0.6439 - val_accuracy: 0.7924\n"
     ]
    }
   ],
   "source": [
    "print('Not using data augmentation.')\n",
    "history=model.fit(x_train, y_train,\n",
    "          batch_size=batch_size,\n",
    "          epochs=epochs,\n",
    "          validation_data=(x_test, y_test),\n",
    "          shuffle=True)"
   ]
  },
  {
   "cell_type": "code",
   "execution_count": 29,
   "metadata": {},
   "outputs": [
    {
     "data": {
      "image/png": "[encoded data removed]",
      "text/plain": [
       "<Figure size 432x288 with 1 Axes>"
      ]
     },
     "metadata": {
      "needs_background": "light"
     },
     "output_type": "display_data"
    },
    {
     "data": {
      "image/png": "[encoded data removed]",
      "text/plain": [
       "<Figure size 432x288 with 1 Axes>"
      ]
     },
     "metadata": {
      "needs_background": "light"
     },
     "output_type": "display_data"
    }
   ],
   "source": [
    "# Plot training & validation accuracy values\n",
    "plt.plot(history.history['accuracy'])\n",
    "plt.plot(history.history['val_accuracy'])\n",
    "plt.title('Model accuracy')\n",
    "plt.ylabel('Accuracy')\n",
    "plt.xlabel('Epoch')\n",
    "plt.legend(['Train', 'Valiidation'], loc='upper left')\n",
    "plt.show()\n",
    "\n",
    "# Plot training & validation loss values\n",
    "plt.plot(history.history['loss'])\n",
    "plt.plot(history.history['val_loss'])\n",
    "plt.title('Model loss')\n",
    "plt.ylabel('Loss')\n",
    "plt.xlabel('Epoch')\n",
    "plt.legend(['Train', 'Valiidation'], loc='upper left')\n",
    "plt.show()"
   ]
  },
  {
   "cell_type": "code",
   "execution_count": null,
   "metadata": {},
   "outputs": [],
   "source": []
  }
 ],
 "metadata": {
  "kernelspec": {
   "display_name": "Python 3",
   "language": "python",
   "name": "python3"
  },
  "language_info": {
   "codemirror_mode": {
    "name": "ipython",
    "version": 3
   },
   "file_extension": ".py",
   "mimetype": "text/x-python",
   "name": "python",
   "nbconvert_exporter": "python",
   "pygments_lexer": "ipython3",
   "version": "3.7.5"
  }
 },
 "nbformat": 4,
 "nbformat_minor": 2
}
