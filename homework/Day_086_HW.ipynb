{
 "cells": [
  {
   "cell_type": "markdown",
   "metadata": {},
   "source": [
    "## Work\n",
    "1. 試比較 save_best_only 與否的差異\n",
    "2. 請僅存入將 save_weights_only 設定為 True, 並嘗試 reset ipynb 並將模型與權重重新建回並預測 x_test"
   ]
  },
  {
   "cell_type": "code",
   "execution_count": 1,
   "metadata": {},
   "outputs": [
    {
     "name": "stderr",
     "output_type": "stream",
     "text": [
      "Using TensorFlow backend.\n",
      "c:\\users\\user\\.conda\\envs\\tf113\\lib\\site-packages\\tensorflow\\python\\framework\\dtypes.py:526: FutureWarning: Passing (type, 1) or '1type' as a synonym of type is deprecated; in a future version of numpy, it will be understood as (type, (1,)) / '(1,)type'.\n",
      "  _np_qint8 = np.dtype([(\"qint8\", np.int8, 1)])\n",
      "c:\\users\\user\\.conda\\envs\\tf113\\lib\\site-packages\\tensorflow\\python\\framework\\dtypes.py:527: FutureWarning: Passing (type, 1) or '1type' as a synonym of type is deprecated; in a future version of numpy, it will be understood as (type, (1,)) / '(1,)type'.\n",
      "  _np_quint8 = np.dtype([(\"quint8\", np.uint8, 1)])\n",
      "c:\\users\\user\\.conda\\envs\\tf113\\lib\\site-packages\\tensorflow\\python\\framework\\dtypes.py:528: FutureWarning: Passing (type, 1) or '1type' as a synonym of type is deprecated; in a future version of numpy, it will be understood as (type, (1,)) / '(1,)type'.\n",
      "  _np_qint16 = np.dtype([(\"qint16\", np.int16, 1)])\n",
      "c:\\users\\user\\.conda\\envs\\tf113\\lib\\site-packages\\tensorflow\\python\\framework\\dtypes.py:529: FutureWarning: Passing (type, 1) or '1type' as a synonym of type is deprecated; in a future version of numpy, it will be understood as (type, (1,)) / '(1,)type'.\n",
      "  _np_quint16 = np.dtype([(\"quint16\", np.uint16, 1)])\n",
      "c:\\users\\user\\.conda\\envs\\tf113\\lib\\site-packages\\tensorflow\\python\\framework\\dtypes.py:530: FutureWarning: Passing (type, 1) or '1type' as a synonym of type is deprecated; in a future version of numpy, it will be understood as (type, (1,)) / '(1,)type'.\n",
      "  _np_qint32 = np.dtype([(\"qint32\", np.int32, 1)])\n",
      "c:\\users\\user\\.conda\\envs\\tf113\\lib\\site-packages\\tensorflow\\python\\framework\\dtypes.py:535: FutureWarning: Passing (type, 1) or '1type' as a synonym of type is deprecated; in a future version of numpy, it will be understood as (type, (1,)) / '(1,)type'.\n",
      "  np_resource = np.dtype([(\"resource\", np.ubyte, 1)])\n"
     ]
    }
   ],
   "source": [
    "import os\n",
    "import keras\n",
    "\n",
    "# Disable GPU\n",
    "# os.environ[\"CUDA_VISIBLE_DEVICES\"] = \"\""
   ]
  },
  {
   "cell_type": "code",
   "execution_count": 2,
   "metadata": {},
   "outputs": [],
   "source": [
    "train, test = keras.datasets.cifar10.load_data()"
   ]
  },
  {
   "cell_type": "code",
   "execution_count": 3,
   "metadata": {},
   "outputs": [],
   "source": [
    "## 資料前處理\n",
    "def preproc_x(x, flatten=True):\n",
    "    x = x / 255.\n",
    "    if flatten:\n",
    "        x = x.reshape((len(x), -1))\n",
    "    return x\n",
    "\n",
    "def preproc_y(y, num_classes=10):\n",
    "    if y.shape[-1] == 1:\n",
    "        y = keras.utils.to_categorical(y, num_classes)\n",
    "    return y    "
   ]
  },
  {
   "cell_type": "code",
   "execution_count": 4,
   "metadata": {},
   "outputs": [],
   "source": [
    "x_train, y_train = train\n",
    "x_test, y_test = test\n",
    "\n",
    "# Preproc the inputs\n",
    "x_train = preproc_x(x_train)\n",
    "x_test = preproc_x(x_test)\n",
    "\n",
    "# Preprc the outputs\n",
    "y_train = preproc_y(y_train)\n",
    "y_test = preproc_y(y_test)"
   ]
  },
  {
   "cell_type": "code",
   "execution_count": 5,
   "metadata": {},
   "outputs": [],
   "source": [
    "from keras.layers import BatchNormalization\n",
    "\n",
    "\"\"\"\n",
    "建立神經網路，並加入 BN layer\n",
    "\"\"\"\n",
    "def build_mlp(input_shape, output_units=10, num_neurons=[512, 256, 128]):\n",
    "    input_layer = keras.layers.Input(input_shape)\n",
    "    \n",
    "    for i, n_units in enumerate(num_neurons):\n",
    "        if i == 0:\n",
    "            x = keras.layers.Dense(units=n_units, \n",
    "                                   activation=\"relu\", \n",
    "                                   name=\"hidden_layer\"+str(i+1))(input_layer)\n",
    "            x = BatchNormalization()(x)\n",
    "        else:\n",
    "            x = keras.layers.Dense(units=n_units, \n",
    "                                   activation=\"relu\", \n",
    "                                   name=\"hidden_layer\"+str(i+1))(x)\n",
    "            x = BatchNormalization()(x)\n",
    "    \n",
    "    out = keras.layers.Dense(units=output_units, activation=\"softmax\", name=\"output\")(x)\n",
    "    \n",
    "    model = keras.models.Model(inputs=[input_layer], outputs=[out])\n",
    "    return model"
   ]
  },
  {
   "cell_type": "code",
   "execution_count": 22,
   "metadata": {},
   "outputs": [],
   "source": [
    "## 超參數設定\n",
    "LEARNING_RATE = 1e-3\n",
    "EPOCHS = 30\n",
    "BATCH_SIZE = 1024\n",
    "MOMENTUM = 0.95"
   ]
  },
  {
   "cell_type": "code",
   "execution_count": 23,
   "metadata": {},
   "outputs": [],
   "source": [
    "# 載入 Callbacks, 並將監控目標設為 validation loss, 且只存最佳參數時的模型\n",
    "#設定 callbacks: model checkpoint\n",
    "from keras.callbacks import ModelCheckpoint\n",
    "\n",
    "model_ckpts =[ ModelCheckpoint(filepath=\"./saved_models/hw86_1.h5\",monitor=\"val_loss\", save_best_only=True)\n",
    "            ,ModelCheckpoint(filepath=\"./saved_models/hw86_2.h5\",monitor=\"val_loss\", save_best_only=False)\n",
    "            ]"
   ]
  },
  {
   "cell_type": "code",
   "execution_count": 24,
   "metadata": {},
   "outputs": [
    {
     "data": {
      "text/plain": [
       "'D:\\\\yh\\\\workdir'"
      ]
     },
     "execution_count": 24,
     "metadata": {},
     "output_type": "execute_result"
    }
   ],
   "source": [
    "import os \n",
    "os.getcwd()"
   ]
  },
  {
   "cell_type": "code",
   "execution_count": 28,
   "metadata": {},
   "outputs": [
    {
     "name": "stdout",
     "output_type": "stream",
     "text": [
      "Model: \"model_10\"\n",
      "_________________________________________________________________\n",
      "Layer (type)                 Output Shape              Param #   \n",
      "=================================================================\n",
      "input_10 (InputLayer)        (None, 3072)              0         \n",
      "_________________________________________________________________\n",
      "hidden_layer1 (Dense)        (None, 512)               1573376   \n",
      "_________________________________________________________________\n",
      "batch_normalization_28 (Batc (None, 512)               2048      \n",
      "_________________________________________________________________\n",
      "hidden_layer2 (Dense)        (None, 256)               131328    \n",
      "_________________________________________________________________\n",
      "batch_normalization_29 (Batc (None, 256)               1024      \n",
      "_________________________________________________________________\n",
      "hidden_layer3 (Dense)        (None, 128)               32896     \n",
      "_________________________________________________________________\n",
      "batch_normalization_30 (Batc (None, 128)               512       \n",
      "_________________________________________________________________\n",
      "output (Dense)               (None, 10)                1290      \n",
      "=================================================================\n",
      "Total params: 1,742,474\n",
      "Trainable params: 1,740,682\n",
      "Non-trainable params: 1,792\n",
      "_________________________________________________________________\n",
      "Train on 50000 samples, validate on 10000 samples\n",
      "Epoch 1/30\n",
      "50000/50000 [==============================] - 3s 67us/step - loss: 2.2070 - accuracy: 0.2733 - val_loss: 2.1323 - val_accuracy: 0.2038\n",
      "Epoch 2/30\n",
      "50000/50000 [==============================] - 2s 38us/step - loss: 1.7546 - accuracy: 0.3923 - val_loss: 1.9912 - val_accuracy: 0.2899\n",
      "Epoch 3/30\n",
      "50000/50000 [==============================] - 2s 38us/step - loss: 1.6247 - accuracy: 0.4337 - val_loss: 1.8460 - val_accuracy: 0.3637\n",
      "Epoch 4/30\n",
      "50000/50000 [==============================] - 2s 38us/step - loss: 1.5489 - accuracy: 0.4599 - val_loss: 1.7430 - val_accuracy: 0.3939\n",
      "Epoch 5/30\n",
      "50000/50000 [==============================] - 2s 38us/step - loss: 1.4947 - accuracy: 0.4776 - val_loss: 1.6631 - val_accuracy: 0.4223\n",
      "Epoch 6/30\n",
      "50000/50000 [==============================] - 2s 38us/step - loss: 1.4474 - accuracy: 0.4934 - val_loss: 1.5955 - val_accuracy: 0.4388\n",
      "Epoch 7/30\n",
      "50000/50000 [==============================] - 2s 38us/step - loss: 1.4069 - accuracy: 0.5104 - val_loss: 1.5460 - val_accuracy: 0.4582\n",
      "Epoch 8/30\n",
      "50000/50000 [==============================] - 2s 45us/step - loss: 1.3699 - accuracy: 0.5231 - val_loss: 1.5378 - val_accuracy: 0.4592\n",
      "Epoch 9/30\n",
      "50000/50000 [==============================] - 2s 38us/step - loss: 1.3362 - accuracy: 0.5346 - val_loss: 1.5096 - val_accuracy: 0.4660\n",
      "Epoch 10/30\n",
      "50000/50000 [==============================] - 2s 38us/step - loss: 1.3040 - accuracy: 0.5460 - val_loss: 1.4983 - val_accuracy: 0.4714\n",
      "Epoch 11/30\n",
      "50000/50000 [==============================] - 2s 41us/step - loss: 1.2736 - accuracy: 0.5555 - val_loss: 1.4897 - val_accuracy: 0.4721\n",
      "Epoch 12/30\n",
      "50000/50000 [==============================] - 2s 41us/step - loss: 1.2454 - accuracy: 0.5671 - val_loss: 1.4914 - val_accuracy: 0.4735\n",
      "Epoch 13/30\n",
      "50000/50000 [==============================] - 2s 38us/step - loss: 1.2199 - accuracy: 0.5780 - val_loss: 1.4733 - val_accuracy: 0.4811\n",
      "Epoch 14/30\n",
      "50000/50000 [==============================] - 2s 38us/step - loss: 1.1929 - accuracy: 0.5879 - val_loss: 1.4867 - val_accuracy: 0.4736\n",
      "Epoch 15/30\n",
      "50000/50000 [==============================] - 2s 39us/step - loss: 1.1670 - accuracy: 0.5971 - val_loss: 1.4697 - val_accuracy: 0.4825\n",
      "Epoch 16/30\n",
      "50000/50000 [==============================] - 2s 42us/step - loss: 1.1438 - accuracy: 0.6068 - val_loss: 1.4618 - val_accuracy: 0.4885\n",
      "Epoch 17/30\n",
      "50000/50000 [==============================] - 2s 38us/step - loss: 1.1177 - accuracy: 0.6159 - val_loss: 1.4657 - val_accuracy: 0.4836\n",
      "Epoch 18/30\n",
      "50000/50000 [==============================] - 2s 38us/step - loss: 1.0941 - accuracy: 0.6251 - val_loss: 1.4767 - val_accuracy: 0.4852\n",
      "Epoch 19/30\n",
      "50000/50000 [==============================] - 2s 38us/step - loss: 1.0730 - accuracy: 0.6326 - val_loss: 1.4593 - val_accuracy: 0.4914\n",
      "Epoch 20/30\n",
      "50000/50000 [==============================] - 2s 38us/step - loss: 1.0477 - accuracy: 0.6412 - val_loss: 1.4677 - val_accuracy: 0.4863\n",
      "Epoch 21/30\n",
      "50000/50000 [==============================] - 2s 39us/step - loss: 1.0256 - accuracy: 0.6508 - val_loss: 1.4660 - val_accuracy: 0.4893\n",
      "Epoch 22/30\n",
      "50000/50000 [==============================] - 2s 39us/step - loss: 1.0042 - accuracy: 0.6587 - val_loss: 1.4510 - val_accuracy: 0.4955\n",
      "Epoch 23/30\n",
      "50000/50000 [==============================] - 2s 39us/step - loss: 0.9827 - accuracy: 0.6668 - val_loss: 1.4638 - val_accuracy: 0.4926\n",
      "Epoch 24/30\n",
      "50000/50000 [==============================] - 2s 38us/step - loss: 0.9584 - accuracy: 0.6768 - val_loss: 1.4552 - val_accuracy: 0.4969\n",
      "Epoch 25/30\n",
      "50000/50000 [==============================] - 2s 38us/step - loss: 0.9370 - accuracy: 0.6841 - val_loss: 1.4823 - val_accuracy: 0.4921\n",
      "Epoch 26/30\n",
      "50000/50000 [==============================] - 2s 38us/step - loss: 0.9178 - accuracy: 0.6924 - val_loss: 1.4570 - val_accuracy: 0.4957\n",
      "Epoch 27/30\n",
      "50000/50000 [==============================] - 2s 39us/step - loss: 0.8960 - accuracy: 0.6997 - val_loss: 1.4780 - val_accuracy: 0.4965\n",
      "Epoch 28/30\n",
      "50000/50000 [==============================] - 2s 38us/step - loss: 0.8755 - accuracy: 0.7103 - val_loss: 1.4831 - val_accuracy: 0.4967\n",
      "Epoch 29/30\n",
      "50000/50000 [==============================] - 2s 38us/step - loss: 0.8558 - accuracy: 0.7156 - val_loss: 1.4879 - val_accuracy: 0.4925\n",
      "Epoch 30/30\n",
      "50000/50000 [==============================] - 2s 39us/step - loss: 0.8350 - accuracy: 0.7251 - val_loss: 1.5010 - val_accuracy: 0.4917\n",
      "10000/10000 [==============================] - 1s 116us/step\n",
      "Model: \"model_11\"\n",
      "_________________________________________________________________\n",
      "Layer (type)                 Output Shape              Param #   \n",
      "=================================================================\n",
      "input_11 (InputLayer)        (None, 3072)              0         \n",
      "_________________________________________________________________\n",
      "hidden_layer1 (Dense)        (None, 512)               1573376   \n",
      "_________________________________________________________________\n",
      "batch_normalization_31 (Batc (None, 512)               2048      \n",
      "_________________________________________________________________\n",
      "hidden_layer2 (Dense)        (None, 256)               131328    \n",
      "_________________________________________________________________\n",
      "batch_normalization_32 (Batc (None, 256)               1024      \n",
      "_________________________________________________________________\n",
      "hidden_layer3 (Dense)        (None, 128)               32896     \n",
      "_________________________________________________________________\n",
      "batch_normalization_33 (Batc (None, 128)               512       \n",
      "_________________________________________________________________\n",
      "output (Dense)               (None, 10)                1290      \n",
      "=================================================================\n",
      "Total params: 1,742,474\n",
      "Trainable params: 1,740,682\n",
      "Non-trainable params: 1,792\n",
      "_________________________________________________________________\n",
      "Train on 50000 samples, validate on 10000 samples\n",
      "Epoch 1/30\n",
      "50000/50000 [==============================] - 3s 67us/step - loss: 2.1994 - accuracy: 0.2696 - val_loss: 2.1346 - val_accuracy: 0.1921\n",
      "Epoch 2/30\n",
      "50000/50000 [==============================] - 2s 38us/step - loss: 1.7362 - accuracy: 0.3961 - val_loss: 1.9742 - val_accuracy: 0.2741\n",
      "Epoch 3/30\n",
      "50000/50000 [==============================] - 2s 38us/step - loss: 1.6121 - accuracy: 0.4387 - val_loss: 1.8038 - val_accuracy: 0.3573\n",
      "Epoch 4/30\n",
      "50000/50000 [==============================] - 2s 38us/step - loss: 1.5391 - accuracy: 0.4635 - val_loss: 1.7078 - val_accuracy: 0.4019\n",
      "Epoch 5/30\n",
      "50000/50000 [==============================] - 2s 39us/step - loss: 1.4857 - accuracy: 0.4809 - val_loss: 1.6379 - val_accuracy: 0.4241\n",
      "Epoch 6/30\n",
      "50000/50000 [==============================] - 2s 38us/step - loss: 1.4408 - accuracy: 0.4980 - val_loss: 1.6082 - val_accuracy: 0.4302\n",
      "Epoch 7/30\n",
      "50000/50000 [==============================] - 2s 39us/step - loss: 1.4022 - accuracy: 0.5128 - val_loss: 1.5475 - val_accuracy: 0.4505\n",
      "Epoch 8/30\n",
      "50000/50000 [==============================] - 2s 40us/step - loss: 1.3664 - accuracy: 0.5244 - val_loss: 1.5247 - val_accuracy: 0.4629\n",
      "Epoch 9/30\n",
      "50000/50000 [==============================] - 2s 39us/step - loss: 1.3355 - accuracy: 0.5350 - val_loss: 1.5105 - val_accuracy: 0.4681\n",
      "Epoch 10/30\n",
      "50000/50000 [==============================] - 2s 39us/step - loss: 1.3051 - accuracy: 0.5466 - val_loss: 1.4890 - val_accuracy: 0.4758\n",
      "Epoch 11/30\n",
      "50000/50000 [==============================] - 2s 38us/step - loss: 1.2758 - accuracy: 0.5563 - val_loss: 1.4839 - val_accuracy: 0.4759\n",
      "Epoch 12/30\n",
      "50000/50000 [==============================] - 2s 38us/step - loss: 1.2500 - accuracy: 0.5673 - val_loss: 1.4680 - val_accuracy: 0.4832\n",
      "Epoch 13/30\n",
      "50000/50000 [==============================] - 2s 38us/step - loss: 1.2242 - accuracy: 0.5758 - val_loss: 1.4647 - val_accuracy: 0.4839\n",
      "Epoch 14/30\n",
      "50000/50000 [==============================] - 2s 38us/step - loss: 1.1984 - accuracy: 0.5857 - val_loss: 1.4574 - val_accuracy: 0.4889\n",
      "Epoch 15/30\n",
      "50000/50000 [==============================] - 2s 39us/step - loss: 1.1736 - accuracy: 0.5941 - val_loss: 1.4671 - val_accuracy: 0.4843\n",
      "Epoch 16/30\n",
      "50000/50000 [==============================] - 2s 38us/step - loss: 1.1497 - accuracy: 0.6042 - val_loss: 1.4578 - val_accuracy: 0.4899\n",
      "Epoch 17/30\n",
      "50000/50000 [==============================] - 2s 38us/step - loss: 1.1279 - accuracy: 0.6110 - val_loss: 1.4544 - val_accuracy: 0.4922\n",
      "Epoch 18/30\n",
      "50000/50000 [==============================] - 2s 38us/step - loss: 1.1041 - accuracy: 0.6207 - val_loss: 1.4467 - val_accuracy: 0.4939\n",
      "Epoch 19/30\n",
      "50000/50000 [==============================] - 2s 39us/step - loss: 1.0825 - accuracy: 0.6304 - val_loss: 1.4539 - val_accuracy: 0.4906\n",
      "Epoch 20/30\n",
      "50000/50000 [==============================] - 2s 38us/step - loss: 1.0610 - accuracy: 0.6375 - val_loss: 1.4545 - val_accuracy: 0.4957\n",
      "Epoch 21/30\n",
      "50000/50000 [==============================] - 2s 40us/step - loss: 1.0387 - accuracy: 0.6473 - val_loss: 1.4609 - val_accuracy: 0.4945\n",
      "Epoch 22/30\n",
      "50000/50000 [==============================] - 2s 40us/step - loss: 1.0179 - accuracy: 0.6538 - val_loss: 1.4529 - val_accuracy: 0.4967\n",
      "Epoch 23/30\n",
      "50000/50000 [==============================] - 2s 38us/step - loss: 0.9975 - accuracy: 0.6619 - val_loss: 1.4607 - val_accuracy: 0.4974\n",
      "Epoch 24/30\n",
      "50000/50000 [==============================] - 2s 38us/step - loss: 0.9774 - accuracy: 0.6708 - val_loss: 1.4582 - val_accuracy: 0.4970\n",
      "Epoch 25/30\n",
      "50000/50000 [==============================] - 2s 39us/step - loss: 0.9575 - accuracy: 0.6764 - val_loss: 1.4665 - val_accuracy: 0.4941\n",
      "Epoch 26/30\n",
      "50000/50000 [==============================] - 2s 38us/step - loss: 0.9373 - accuracy: 0.6854 - val_loss: 1.4644 - val_accuracy: 0.4994\n",
      "Epoch 27/30\n",
      "50000/50000 [==============================] - 2s 40us/step - loss: 0.9156 - accuracy: 0.6929 - val_loss: 1.4615 - val_accuracy: 0.4997\n",
      "Epoch 28/30\n",
      "50000/50000 [==============================] - 2s 42us/step - loss: 0.8947 - accuracy: 0.7015 - val_loss: 1.4695 - val_accuracy: 0.4943\n",
      "Epoch 29/30\n",
      "50000/50000 [==============================] - 2s 39us/step - loss: 0.8775 - accuracy: 0.7078 - val_loss: 1.4936 - val_accuracy: 0.4892\n",
      "Epoch 30/30\n",
      "50000/50000 [==============================] - 2s 38us/step - loss: 0.8579 - accuracy: 0.7166 - val_loss: 1.4880 - val_accuracy: 0.4956\n",
      "10000/10000 [==============================] - 1s 125us/step\n"
     ]
    }
   ],
   "source": [
    "results={}\n",
    "\n",
    "for i,model_ckpt in enumerate(model_ckpts):\n",
    "\n",
    "    model = build_mlp(input_shape=x_train.shape[1:])\n",
    "    model.summary()\n",
    "    optimizer = keras.optimizers.SGD(lr=LEARNING_RATE, nesterov=True, momentum=MOMENTUM)\n",
    "    model.compile(loss=\"categorical_crossentropy\", metrics=[\"accuracy\"], optimizer=optimizer)\n",
    "\n",
    "    model.fit(x_train, y_train, \n",
    "              epochs=EPOCHS, \n",
    "              batch_size=BATCH_SIZE, \n",
    "              validation_data=(x_test, y_test), \n",
    "              shuffle=True,\n",
    "              callbacks=[model_ckpt]\n",
    "             )\n",
    "\n",
    "    # Collect results\n",
    "    train_loss = model.history.history[\"loss\"]\n",
    "    valid_loss = model.history.history[\"val_loss\"]\n",
    "    train_acc = model.history.history[\"accuracy\"]\n",
    "    valid_acc = model.history.history[\"val_accuracy\"]\n",
    "\n",
    "    # Load back\n",
    "    #del for testing load modelfile from directory\n",
    "    del model\n",
    "    \n",
    "    \n",
    "    if i == 0:\n",
    "        exp_name_tag = \"save best only\" \n",
    "        # Load back\n",
    "        model = keras.models.load_model(\"./saved_models/hw86_1.h5\")\n",
    "        loss_loadback_1, acc_loadback_1 = model.evaluate(x_test, y_test)\n",
    "    else:\n",
    "        exp_name_tag = \"not save best only\" \n",
    "        # Load back\n",
    "        model = keras.models.load_model(\"./saved_models/hw86_2.h5\")\n",
    "        loss_loadback_2, acc_loadback_2 = model.evaluate(x_test, y_test)\n",
    "    \n",
    "    results[exp_name_tag] = {'train-loss': train_loss,\n",
    "                             'valid-loss': valid_loss,\n",
    "                             'train-acc': train_acc,\n",
    "                             'valid-acc': valid_acc}\n",
    "        \n",
    "        "
   ]
  },
  {
   "cell_type": "code",
   "execution_count": 40,
   "metadata": {
    "scrolled": true
   },
   "outputs": [
    {
     "data": {
      "image/png": "[encoded data removed]",
      "text/plain": [
       "<Figure size 576x432 with 1 Axes>"
      ]
     },
     "metadata": {
      "needs_background": "light"
     },
     "output_type": "display_data"
    },
    {
     "data": {
      "text/plain": [
       "<matplotlib.legend.Legend at 0x2c9f0e07308>"
      ]
     },
     "execution_count": 40,
     "metadata": {},
     "output_type": "execute_result"
    },
    {
     "data": {
      "image/png": "[encoded data removed]",
      "text/plain": [
       "<Figure size 576x432 with 1 Axes>"
      ]
     },
     "metadata": {
      "needs_background": "light"
     },
     "output_type": "display_data"
    }
   ],
   "source": [
    "import matplotlib.pyplot as plt\n",
    "%matplotlib inline\n",
    "\"\"\"Code Here\n",
    "將結果繪出\n",
    "\"\"\"\n",
    "color_bar = [\"r\", \"g\", \"b\", \"y\", \"m\", \"k\",'#eeefff','#00efff']\n",
    "plt.figure(figsize=(8,6))\n",
    "\n",
    "loss_loadback=[loss_loadback_1,loss_loadback_2]\n",
    "acc_loadback=[acc_loadback_1,acc_loadback_2]\n",
    "textlabel=['test, best only','test, not best only']\n",
    "\n",
    "for i, cond in enumerate(results.keys()):\n",
    "    plt.plot(range(len(results[cond]['train-loss'])),results[cond]['train-loss'], '-', label=cond, color=color_bar[i])\n",
    "    plt.plot(range(len(results[cond]['valid-loss'])),results[cond]['valid-loss'], '--', label=cond, color=color_bar[i])\n",
    "    plt.hlines(y=loss_loadback[i], xmin=0, xmax=len(train_loss), colors=color_bar[i+2], linestyles='-.',label=textlabel[i])\n",
    "\n",
    "plt.title(\"Loss\")\n",
    "plt.legend()\n",
    "plt.show()\n",
    "\n",
    "plt.figure(figsize=(8,6))\n",
    "for i, cond in enumerate(results.keys()):\n",
    "    plt.plot(range(len(results[cond]['train-acc'])),results[cond]['train-acc'], '-', label=cond, color=color_bar[i])\n",
    "    plt.plot(range(len(results[cond]['valid-acc'])),results[cond]['valid-acc'], '--', label=cond, color=color_bar[i])\n",
    "    plt.hlines(y=loss_loadback[i], xmin=0, xmax=len(train_loss), colors=color_bar[i+2], linestyles='-.',label=textlabel[i])\n",
    "\n",
    "\n",
    "plt.title(\"Accuracy\")\n",
    "plt.legend()"
   ]
  },
  {
   "cell_type": "code",
   "execution_count": 38,
   "metadata": {},
   "outputs": [
    {
     "name": "stdout",
     "output_type": "stream",
     "text": [
      "best only test loss 1.4468372108459473\n",
      "best only test accuracy 0.49540001153945923\n",
      "not best only test loss 1.4879552299499512\n",
      "not best only test accuracy 0.49559998512268066\n",
      "[0.49540001153945923, 0.49559998512268066]\n"
     ]
    }
   ],
   "source": [
    "for i, cond in enumerate(results.keys()):\n",
    "    print(textlabel[i],'test loss',loss_loadback[i],)\n",
    "    print(textlabel[i],'test accuracy',acc_loadback[i])\n",
    "print(acc_loadback)\n",
    "\n"
   ]
  },
  {
   "cell_type": "code",
   "execution_count": null,
   "metadata": {},
   "outputs": [],
   "source": []
  },
  {
   "cell_type": "markdown",
   "metadata": {},
   "source": [
    "# 2.請僅存入將 save_weights_only 設定為 True, 並嘗試 reset ipynb 並將模型與權重重新建回並預測 x_test"
   ]
  },
  {
   "cell_type": "code",
   "execution_count": null,
   "metadata": {},
   "outputs": [],
   "source": [
    "# THEN I RESTART and load ./saved_models/hw86_1.h5 for just predicting"
   ]
  },
  {
   "cell_type": "code",
   "execution_count": null,
   "metadata": {},
   "outputs": [],
   "source": []
  },
  {
   "cell_type": "code",
   "execution_count": 7,
   "metadata": {},
   "outputs": [
    {
     "name": "stdout",
     "output_type": "stream",
     "text": [
      "Model: \"model_4\"\n",
      "_________________________________________________________________\n",
      "Layer (type)                 Output Shape              Param #   \n",
      "=================================================================\n",
      "input_4 (InputLayer)         (None, 3072)              0         \n",
      "_________________________________________________________________\n",
      "hidden_layer1 (Dense)        (None, 512)               1573376   \n",
      "_________________________________________________________________\n",
      "batch_normalization_10 (Batc (None, 512)               2048      \n",
      "_________________________________________________________________\n",
      "hidden_layer2 (Dense)        (None, 256)               131328    \n",
      "_________________________________________________________________\n",
      "batch_normalization_11 (Batc (None, 256)               1024      \n",
      "_________________________________________________________________\n",
      "hidden_layer3 (Dense)        (None, 128)               32896     \n",
      "_________________________________________________________________\n",
      "batch_normalization_12 (Batc (None, 128)               512       \n",
      "_________________________________________________________________\n",
      "output (Dense)               (None, 10)                1290      \n",
      "=================================================================\n",
      "Total params: 1,742,474\n",
      "Trainable params: 1,740,682\n",
      "Non-trainable params: 1,792\n",
      "_________________________________________________________________\n",
      "10000/10000 [==============================] - 1s 99us/step\n"
     ]
    }
   ],
   "source": [
    "import keras\n",
    "\n",
    "from keras.layers import BatchNormalization\n",
    "\n",
    "\n",
    "train, test = keras.datasets.cifar10.load_data()\n",
    "\n",
    "## 資料前處理\n",
    "def preproc_x(x, flatten=True):\n",
    "    x = x / 255.\n",
    "    if flatten:\n",
    "        x = x.reshape((len(x), -1))\n",
    "    return x\n",
    "\n",
    "def preproc_y(y, num_classes=10):\n",
    "    if y.shape[-1] == 1:\n",
    "        y = keras.utils.to_categorical(y, num_classes)\n",
    "    return y    \n",
    "\n",
    "\n",
    "x_train, y_train = train\n",
    "x_test, y_test = test\n",
    "\n",
    "# Preproc the inputs\n",
    "x_train = preproc_x(x_train)\n",
    "x_test = preproc_x(x_test)\n",
    "\n",
    "# Preprc the outputs\n",
    "y_train = preproc_y(y_train)\n",
    "y_test = preproc_y(y_test)\n",
    "\n",
    "## 超參數設定\n",
    "LEARNING_RATE = 1e-3\n",
    "EPOCHS = 30\n",
    "BATCH_SIZE = 1024\n",
    "MOMENTUM = 0.95\n",
    "\n",
    "def build_mlp(input_shape, output_units=10, num_neurons=[512, 256, 128]):\n",
    "    input_layer = keras.layers.Input(input_shape)\n",
    "    \n",
    "    for i, n_units in enumerate(num_neurons):\n",
    "        if i == 0:\n",
    "            x = keras.layers.Dense(units=n_units, \n",
    "                                   activation=\"relu\", \n",
    "                                   name=\"hidden_layer\"+str(i+1))(input_layer)\n",
    "            x = BatchNormalization()(x)\n",
    "        else:\n",
    "            x = keras.layers.Dense(units=n_units, \n",
    "                                   activation=\"relu\", \n",
    "                                   name=\"hidden_layer\"+str(i+1))(x)\n",
    "            x = BatchNormalization()(x)\n",
    "    \n",
    "    out = keras.layers.Dense(units=output_units, activation=\"softmax\", name=\"output\")(x)\n",
    "    \n",
    "    model = keras.models.Model(inputs=[input_layer], outputs=[out])\n",
    "    return model\n",
    "\n",
    "\n",
    "model = build_mlp(input_shape=x_train.shape[1:])\n",
    "model.summary()\n",
    "optimizer = keras.optimizers.SGD(lr=LEARNING_RATE, nesterov=True, momentum=MOMENTUM)\n",
    "model.compile(loss=\"categorical_crossentropy\", metrics=[\"accuracy\"], optimizer=optimizer)\n",
    "\n",
    "model.load_weights(\"./saved_models/hw86_1.h5\")\n",
    "loss_loadback, acc_loadback = model.evaluate(x_test, y_test)\n",
    "\n",
    "\n",
    "\n"
   ]
  },
  {
   "cell_type": "code",
   "execution_count": 8,
   "metadata": {},
   "outputs": [
    {
     "data": {
      "text/plain": [
       "1.4468372108459473"
      ]
     },
     "execution_count": 8,
     "metadata": {},
     "output_type": "execute_result"
    }
   ],
   "source": [
    "loss_loadback"
   ]
  },
  {
   "cell_type": "code",
   "execution_count": 9,
   "metadata": {},
   "outputs": [
    {
     "data": {
      "text/plain": [
       "0.49540001153945923"
      ]
     },
     "execution_count": 9,
     "metadata": {},
     "output_type": "execute_result"
    }
   ],
   "source": [
    "acc_loadback"
   ]
  },
  {
   "cell_type": "code",
   "execution_count": null,
   "metadata": {},
   "outputs": [],
   "source": []
  }
 ],
 "metadata": {
  "kernelspec": {
   "display_name": "Python 3",
   "language": "python",
   "name": "python3"
  },
  "language_info": {
   "codemirror_mode": {
    "name": "ipython",
    "version": 3
   },
   "file_extension": ".py",
   "mimetype": "text/x-python",
   "name": "python",
   "nbconvert_exporter": "python",
   "pygments_lexer": "ipython3",
   "version": "3.7.5"
  }
 },
 "nbformat": 4,
 "nbformat_minor": 2
}
