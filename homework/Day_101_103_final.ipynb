{
 "cells": [
  {
   "cell_type": "code",
   "execution_count": 103,
   "metadata": {},
   "outputs": [],
   "source": [
    "import warnings\n",
    "warnings.filterwarnings('ignore')\n",
    "from tensorflow.python.keras import backend as K\n",
    "# from tensorflow.python.keras.models import Model\n",
    "# from tensorflow.python.keras.layers import Flatten, Dense, Dropout\n",
    "# from tensorflow.python.keras.applications.resnet50 import ResNet50\n",
    "from keras.applications.resnet50 import ResNet50\n",
    "# from tensorflow.python.keras.optimizers import Adam\n",
    "# from tensorflow.python.keras.preprocessing.image import ImageDataGenerator\n",
    "\n",
    "from keras.preprocessing.image import ImageDataGenerator\n",
    "from keras import models\n",
    "from keras import layers\n",
    "from keras import optimizers\n",
    "from keras.layers.normalization import BatchNormalization\n",
    "from keras.preprocessing import image\n",
    "import os\n",
    "import numpy as np\n",
    "import pandas as pd\n"
   ]
  },
  {
   "cell_type": "code",
   "execution_count": 18,
   "metadata": {},
   "outputs": [],
   "source": [
    "train_path = './ml100-03-final/image_data/train'\n",
    "test_path = './ml100-03-final/image_data/test'\n"
   ]
  },
  {
   "cell_type": "code",
   "execution_count": 3,
   "metadata": {},
   "outputs": [
    {
     "name": "stdout",
     "output_type": "stream",
     "text": [
      "Found 2823 images belonging to 5 classes.\n"
     ]
    }
   ],
   "source": [
    "# 資料路徑\n",
    "DATASET_PATH  = './ml100-03-final'\n",
    "# 影像大小\n",
    "IMAGE_SIZE = (224, 224)\n",
    "# 影像類別數\n",
    "NUM_CLASSES = 5\n",
    "# 若 GPU 記憶體不足，可調降 batch size 或凍結更多層網路\n",
    "BATCH_SIZE = 32\n",
    "\n",
    "# Epoch 數\n",
    "NUM_EPOCHS = 50\n",
    "# 模型輸出儲存的檔案\n",
    "WEIGHTS_FINAL = './ml100-03-final/flower-model.h5'\n",
    "# 透過 data augmentation 產生訓練與驗證用的影像資料\n",
    "train_datagen = ImageDataGenerator(rotation_range=30,\n",
    "                                   width_shift_range=0.2,\n",
    "                                   height_shift_range=0.2,\n",
    "                                   shear_range=0.2,\n",
    "                                   zoom_range=0.2,\n",
    "                                   channel_shift_range=10,\n",
    "                                   horizontal_flip=True,\n",
    "                                   fill_mode='nearest')\n",
    "train_batches = train_datagen.flow_from_directory(DATASET_PATH + '/image_data/train',\n",
    "                                                  target_size=IMAGE_SIZE,\n",
    "                                                  interpolation='bicubic',\n",
    "                                                  class_mode='categorical',\n",
    "                                                  shuffle=True,\n",
    "                                                  batch_size=BATCH_SIZE)"
   ]
  },
  {
   "cell_type": "code",
   "execution_count": 4,
   "metadata": {},
   "outputs": [
    {
     "name": "stdout",
     "output_type": "stream",
     "text": [
      "Class #0 = daisy\n",
      "Class #1 = dandelion\n",
      "Class #2 = rose\n",
      "Class #3 = sunflower\n",
      "Class #4 = tulip\n",
      "(224, 224, 3)\n"
     ]
    }
   ],
   "source": [
    "# 輸出各類別的索引值\n",
    "for cls, idx in train_batches.class_indices.items():\n",
    "    print('Class #{} = {}'.format(idx, cls))\n",
    "print(train_batches.image_shape)"
   ]
  },
  {
   "cell_type": "code",
   "execution_count": 5,
   "metadata": {},
   "outputs": [
    {
     "name": "stdout",
     "output_type": "stream",
     "text": [
      "WARNING:tensorflow:From c:\\users\\user\\.conda\\envs\\tf113\\lib\\site-packages\\tensorflow\\python\\ops\\resource_variable_ops.py:435: colocate_with (from tensorflow.python.framework.ops) is deprecated and will be removed in a future version.\n",
      "Instructions for updating:\n",
      "Colocations handled automatically by placer.\n"
     ]
    }
   ],
   "source": [
    "# 以訓練好的 ResNet50 為基礎來建立模型，\n",
    "# 捨棄 ResNet50 頂層的 fully connected layers\n",
    "model = models.Sequential()\n",
    "res50=ResNet50(include_top=False, weights='imagenet', input_tensor=None,\n",
    "               input_shape=(IMAGE_SIZE[0],IMAGE_SIZE[1],3))\n",
    "model.add(res50)"
   ]
  },
  {
   "cell_type": "code",
   "execution_count": 6,
   "metadata": {},
   "outputs": [
    {
     "name": "stdout",
     "output_type": "stream",
     "text": [
      "Model: \"sequential_1\"\n",
      "_________________________________________________________________\n",
      "Layer (type)                 Output Shape              Param #   \n",
      "=================================================================\n",
      "resnet50 (Model)             (None, 7, 7, 2048)        23587712  \n",
      "=================================================================\n",
      "Total params: 23,587,712\n",
      "Trainable params: 23,534,592\n",
      "Non-trainable params: 53,120\n",
      "_________________________________________________________________\n"
     ]
    }
   ],
   "source": [
    "model.summary()"
   ]
  },
  {
   "cell_type": "code",
   "execution_count": 7,
   "metadata": {},
   "outputs": [
    {
     "name": "stdout",
     "output_type": "stream",
     "text": [
      "Model: \"sequential_1\"\n",
      "_________________________________________________________________\n",
      "Layer (type)                 Output Shape              Param #   \n",
      "=================================================================\n",
      "resnet50 (Model)             (None, 7, 7, 2048)        23587712  \n",
      "=================================================================\n",
      "Total params: 23,587,712\n",
      "Trainable params: 0\n",
      "Non-trainable params: 23,587,712\n",
      "_________________________________________________________________\n"
     ]
    }
   ],
   "source": [
    "#凍結resnet參數\n",
    "for layer in model.layers:\n",
    "    layer.trainable = False\n",
    "model.summary()"
   ]
  },
  {
   "cell_type": "code",
   "execution_count": 8,
   "metadata": {},
   "outputs": [
    {
     "name": "stdout",
     "output_type": "stream",
     "text": [
      "Model: \"sequential_1\"\n",
      "_________________________________________________________________\n",
      "Layer (type)                 Output Shape              Param #   \n",
      "=================================================================\n",
      "resnet50 (Model)             (None, 7, 7, 2048)        23587712  \n",
      "_________________________________________________________________\n",
      "flatten_1 (Flatten)          (None, 100352)            0         \n",
      "_________________________________________________________________\n",
      "dense_1 (Dense)              (None, 256)               25690368  \n",
      "_________________________________________________________________\n",
      "dropout_1 (Dropout)          (None, 256)               0         \n",
      "_________________________________________________________________\n",
      "batch_normalization_1 (Batch (None, 256)               1024      \n",
      "_________________________________________________________________\n",
      "dense_2 (Dense)              (None, 5)                 1285      \n",
      "=================================================================\n",
      "Total params: 49,280,389\n",
      "Trainable params: 25,692,165\n",
      "Non-trainable params: 23,588,224\n",
      "_________________________________________________________________\n"
     ]
    }
   ],
   "source": [
    "#新增 layer\n",
    "model.add(layers.Flatten())\n",
    "\n",
    "model.add(layers.Dense(256, activation='relu'))\n",
    "model.add(layers.Dropout(0.25))\n",
    "\n",
    "model.add(BatchNormalization())\n",
    "\n",
    "model.add(layers.Dense(NUM_CLASSES, activation='softmax'))\n",
    "\n",
    "model.summary()"
   ]
  },
  {
   "cell_type": "code",
   "execution_count": 9,
   "metadata": {},
   "outputs": [
    {
     "name": "stdout",
     "output_type": "stream",
     "text": [
      "WARNING:tensorflow:From c:\\users\\user\\.conda\\envs\\tf113\\lib\\site-packages\\tensorflow\\python\\ops\\math_ops.py:3066: to_int32 (from tensorflow.python.ops.math_ops) is deprecated and will be removed in a future version.\n",
      "Instructions for updating:\n",
      "Use tf.cast instead.\n",
      "Epoch 1/50\n",
      "88/88 [==============================] - 53s 599ms/step - loss: 1.1934 - accuracy: 0.5625\n",
      "Epoch 2/50\n",
      "88/88 [==============================] - 47s 534ms/step - loss: 0.6741 - accuracy: 0.7671\n",
      "Epoch 3/50\n",
      "88/88 [==============================] - 45s 515ms/step - loss: 0.5634 - accuracy: 0.7900\n",
      "Epoch 4/50\n",
      "88/88 [==============================] - 46s 518ms/step - loss: 0.5130 - accuracy: 0.8137\n",
      "Epoch 5/50\n",
      "88/88 [==============================] - 45s 514ms/step - loss: 0.4517 - accuracy: 0.8381\n",
      "Epoch 6/50\n",
      "88/88 [==============================] - 45s 515ms/step - loss: 0.4199 - accuracy: 0.8531\n",
      "Epoch 7/50\n",
      "88/88 [==============================] - 45s 517ms/step - loss: 0.3910 - accuracy: 0.8667\n",
      "Epoch 8/50\n",
      "88/88 [==============================] - 46s 519ms/step - loss: 0.3691 - accuracy: 0.8642\n",
      "Epoch 9/50\n",
      "88/88 [==============================] - 46s 521ms/step - loss: 0.3601 - accuracy: 0.8722\n",
      "Epoch 10/50\n",
      "88/88 [==============================] - 49s 551ms/step - loss: 0.3173 - accuracy: 0.8876\n",
      "Epoch 11/50\n",
      "88/88 [==============================] - 45s 507ms/step - loss: 0.3187 - accuracy: 0.8836\n",
      "Epoch 12/50\n",
      "88/88 [==============================] - 44s 500ms/step - loss: 0.2920 - accuracy: 0.8920\n",
      "Epoch 13/50\n",
      "88/88 [==============================] - 43s 491ms/step - loss: 0.2522 - accuracy: 0.9100\n",
      "Epoch 14/50\n",
      "88/88 [==============================] - 44s 499ms/step - loss: 0.2804 - accuracy: 0.8990\n",
      "Epoch 15/50\n",
      "88/88 [==============================] - 44s 496ms/step - loss: 0.2744 - accuracy: 0.9000\n",
      "Epoch 16/50\n",
      "88/88 [==============================] - 44s 498ms/step - loss: 0.2728 - accuracy: 0.9076\n",
      "Epoch 17/50\n",
      "88/88 [==============================] - 44s 503ms/step - loss: 0.2452 - accuracy: 0.9091\n",
      "Epoch 18/50\n",
      "88/88 [==============================] - 44s 504ms/step - loss: 0.2481 - accuracy: 0.9137\n",
      "Epoch 19/50\n",
      "88/88 [==============================] - 44s 499ms/step - loss: 0.2158 - accuracy: 0.9252\n",
      "Epoch 20/50\n",
      "88/88 [==============================] - 44s 501ms/step - loss: 0.2251 - accuracy: 0.9187\n",
      "Epoch 21/50\n",
      "88/88 [==============================] - 44s 498ms/step - loss: 0.2513 - accuracy: 0.9201\n",
      "Epoch 22/50\n",
      "88/88 [==============================] - 44s 497ms/step - loss: 0.2180 - accuracy: 0.9265\n",
      "Epoch 23/50\n",
      "88/88 [==============================] - 44s 496ms/step - loss: 0.2053 - accuracy: 0.9344\n",
      "Epoch 24/50\n",
      "88/88 [==============================] - 44s 504ms/step - loss: 0.1878 - accuracy: 0.9350\n",
      "Epoch 25/50\n",
      "88/88 [==============================] - 43s 494ms/step - loss: 0.2049 - accuracy: 0.9258\n",
      "Epoch 26/50\n",
      "88/88 [==============================] - 43s 488ms/step - loss: 0.1830 - accuracy: 0.9407\n",
      "Epoch 27/50\n",
      "88/88 [==============================] - 43s 494ms/step - loss: 0.1928 - accuracy: 0.9344\n",
      "Epoch 28/50\n",
      "88/88 [==============================] - 44s 497ms/step - loss: 0.1823 - accuracy: 0.9379\n",
      "Epoch 29/50\n",
      "88/88 [==============================] - 43s 488ms/step - loss: 0.1832 - accuracy: 0.9378\n",
      "Epoch 30/50\n",
      "88/88 [==============================] - 43s 493ms/step - loss: 0.1659 - accuracy: 0.9394\n",
      "Epoch 31/50\n",
      "88/88 [==============================] - 44s 495ms/step - loss: 0.1780 - accuracy: 0.9348\n",
      "Epoch 32/50\n",
      "88/88 [==============================] - 44s 495ms/step - loss: 0.1645 - accuracy: 0.9434\n",
      "Epoch 33/50\n",
      "88/88 [==============================] - 43s 493ms/step - loss: 0.1632 - accuracy: 0.9470\n",
      "Epoch 34/50\n",
      "88/88 [==============================] - 43s 493ms/step - loss: 0.1371 - accuracy: 0.9531\n",
      "Epoch 35/50\n",
      "88/88 [==============================] - 43s 494ms/step - loss: 0.1653 - accuracy: 0.9423\n",
      "Epoch 36/50\n",
      "88/88 [==============================] - 44s 495ms/step - loss: 0.1644 - accuracy: 0.9437\n",
      "Epoch 37/50\n",
      "88/88 [==============================] - 44s 496ms/step - loss: 0.1498 - accuracy: 0.9545\n",
      "Epoch 38/50\n",
      "88/88 [==============================] - 43s 490ms/step - loss: 0.1550 - accuracy: 0.9469\n",
      "Epoch 39/50\n",
      "88/88 [==============================] - 43s 494ms/step - loss: 0.1399 - accuracy: 0.9523\n",
      "Epoch 40/50\n",
      "88/88 [==============================] - 44s 498ms/step - loss: 0.1348 - accuracy: 0.9585\n",
      "Epoch 41/50\n",
      "88/88 [==============================] - 43s 491ms/step - loss: 0.1479 - accuracy: 0.9476\n",
      "Epoch 42/50\n",
      "88/88 [==============================] - 43s 494ms/step - loss: 0.1410 - accuracy: 0.9531\n",
      "Epoch 43/50\n",
      "88/88 [==============================] - 44s 497ms/step - loss: 0.1430 - accuracy: 0.9577\n",
      "Epoch 44/50\n",
      "88/88 [==============================] - 43s 491ms/step - loss: 0.1363 - accuracy: 0.9552\n",
      "Epoch 45/50\n",
      "88/88 [==============================] - 44s 502ms/step - loss: 0.1283 - accuracy: 0.9577\n",
      "Epoch 46/50\n",
      "88/88 [==============================] - 43s 490ms/step - loss: 0.1492 - accuracy: 0.9544\n",
      "Epoch 47/50\n",
      "88/88 [==============================] - 43s 493ms/step - loss: 0.1311 - accuracy: 0.9595\n",
      "Epoch 48/50\n",
      "88/88 [==============================] - 44s 496ms/step - loss: 0.1273 - accuracy: 0.9563\n",
      "Epoch 49/50\n",
      "88/88 [==============================] - 43s 492ms/step - loss: 0.1378 - accuracy: 0.9602\n",
      "Epoch 50/50\n",
      "88/88 [==============================] - 43s 494ms/step - loss: 0.1179 - accuracy: 0.9588\n"
     ]
    }
   ],
   "source": [
    "model.compile(optimizer=optimizers.Adam(lr=1e-5),\n",
    "                  loss='categorical_crossentropy', metrics=['accuracy'])\n",
    "\n",
    "model.fit_generator(train_batches,\n",
    "                        steps_per_epoch = train_batches.samples // BATCH_SIZE,                       \n",
    "                        epochs = NUM_EPOCHS)\n",
    "\n",
    "# 儲存訓練好的模型\n",
    "model.save(WEIGHTS_FINAL)\n"
   ]
  },
  {
   "cell_type": "code",
   "execution_count": 12,
   "metadata": {},
   "outputs": [
    {
     "data": {
      "image/png": "[encoded data removed]",
      "text/plain": [
       "<Figure size 432x288 with 1 Axes>"
      ]
     },
     "metadata": {
      "needs_background": "light"
     },
     "output_type": "display_data"
    },
    {
     "data": {
      "image/png": "[encoded data removed]",
      "text/plain": [
       "<Figure size 432x288 with 1 Axes>"
      ]
     },
     "metadata": {
      "needs_background": "light"
     },
     "output_type": "display_data"
    }
   ],
   "source": [
    "import matplotlib.pyplot as plt\n",
    "\n",
    "%matplotlib inline\n",
    "\n",
    "train_loss = model.history.history[\"loss\"]\n",
    "\n",
    "train_acc = model.history.history[\"accuracy\"]\n",
    "\n",
    "\n",
    "plt.plot(range(len(train_loss)), train_loss, label=\"train loss\")\n",
    "\n",
    "plt.legend()\n",
    "plt.title(\"Loss\")\n",
    "plt.show()\n",
    "\n",
    "plt.plot(range(len(train_acc)), train_acc, label=\"train accuracy\")\n",
    "\n",
    "plt.legend()\n",
    "plt.title(\"Accuracy\")\n",
    "plt.show()"
   ]
  },
  {
   "cell_type": "code",
   "execution_count": 112,
   "metadata": {},
   "outputs": [
    {
     "name": "stdout",
     "output_type": "stream",
     "text": [
      "                                    id  flower_class\n",
      "0     0028624c49b3e0610ff9f1d111f5d532             2\n",
      "1     002c30700185b7971369258b438070d5             4\n",
      "2     00852f4f666acecd0c0d140365b42efd             4\n",
      "3     00c08828fce04e360c732cac01edad9e             4\n",
      "4     00d366e7877b6a78b104b57d67b60e6b             4\n",
      "...                                ...           ...\n",
      "1995  ff7eac29b6d7a33fbd8009677c3e9c58             1\n",
      "1996  ffbc32a7b67dfe72b8d35d4b1b35fd6c             1\n",
      "1997  ffea1f275c05accb0a6bfd1203620c7e             0\n",
      "1998  ffeb2a1cf53464b6af937ab8af0c2946             4\n",
      "1999  ffefcc68e2e7eed8b17b0b5b0f740538             1\n",
      "\n",
      "[2000 rows x 2 columns]\n"
     ]
    }
   ],
   "source": [
    "flower_mapping = {'daisy':0, 'dandelion':1, 'rose':2, 'sunflower':3, 'tulip':4}"
   ]
  },
  {
   "cell_type": "code",
   "execution_count": null,
   "metadata": {},
   "outputs": [],
   "source": [
    "##test dimension"
   ]
  },
  {
   "cell_type": "code",
   "execution_count": 87,
   "metadata": {},
   "outputs": [
    {
     "name": "stdout",
     "output_type": "stream",
     "text": [
      "imgXXX (224, 224, 3)\n",
      "imgXXXX (1, 224, 224, 3)\n",
      "predict 1st:  [2]\n"
     ]
    },
    {
     "data": {
      "text/plain": [
       "array([2], dtype=int64)"
      ]
     },
     "execution_count": 87,
     "metadata": {},
     "output_type": "execute_result"
    }
   ],
   "source": [
    "imgXX=os.path.join(test_path, '0028624c49b3e0610ff9f1d111f5d532.jpg')\n",
    "imgXX = image.load_img(imgXX,target_size=(224,224))\n",
    "\n",
    "imgXXX=image.img_to_array(imgXX) #to np array\n",
    "\n",
    "print('imgXXX',imgXXX.shape)\n",
    "imgXXXX = np.expand_dims(imgXX, axis=0)\n",
    "\n",
    "print('imgXXXX',imgXXXX.shape)\n",
    "print('predict 1st: ', model.predict_classes(imgXXXX).astype('int'))\n",
    "model.predict_classes(imgXXXX)"
   ]
  },
  {
   "cell_type": "code",
   "execution_count": 106,
   "metadata": {},
   "outputs": [],
   "source": [
    "test_image_id=[]\n",
    "test_images=[]\n",
    "for img in os.listdir(test_path):\n",
    "    test_image_id.append(img[:-4]) # remove  '.jpg'\n",
    "    img = os.path.join(test_path, img)\n",
    "    img = image.load_img(img, target_size=(224,224))# due to resnet input shape (n*224*224*3)\n",
    "    img = image.img_to_array(img)\n",
    "    img = np.expand_dims(img, axis=0)\n",
    "    test_images.append(img)\n",
    "    "
   ]
  },
  {
   "cell_type": "code",
   "execution_count": 99,
   "metadata": {},
   "outputs": [],
   "source": [
    "# stack up images list to pass for prediction\n",
    "np_test_images = np.vstack(test_images)"
   ]
  },
  {
   "cell_type": "code",
   "execution_count": 100,
   "metadata": {},
   "outputs": [
    {
     "data": {
      "text/plain": [
       "array([2, 4, 4, ..., 0, 4, 1], dtype=int64)"
      ]
     },
     "execution_count": 100,
     "metadata": {},
     "output_type": "execute_result"
    }
   ],
   "source": [
    "model.predict_classes(np_test_images)"
   ]
  },
  {
   "cell_type": "code",
   "execution_count": 93,
   "metadata": {},
   "outputs": [],
   "source": [
    "predict_test_result=model.predict_classes(np_test_images)"
   ]
  },
  {
   "cell_type": "code",
   "execution_count": 108,
   "metadata": {},
   "outputs": [
    {
     "data": {
      "text/plain": [
       "2000"
      ]
     },
     "execution_count": 108,
     "metadata": {},
     "output_type": "execute_result"
    }
   ],
   "source": [
    "len(predict_test_result)"
   ]
  },
  {
   "cell_type": "code",
   "execution_count": 110,
   "metadata": {},
   "outputs": [],
   "source": [
    "sub = pd.DataFrame({'id': test_image_id, 'flower_class': predict_test_result})\n",
    "sub.to_csv(DATASET_PATH+'/final_submit.csv', index=False)"
   ]
  },
  {
   "cell_type": "code",
   "execution_count": 113,
   "metadata": {},
   "outputs": [
    {
     "data": {
      "text/html": [
       "<div>\n",
       "<style scoped>\n",
       "    .dataframe tbody tr th:only-of-type {\n",
       "        vertical-align: middle;\n",
       "    }\n",
       "\n",
       "    .dataframe tbody tr th {\n",
       "        vertical-align: top;\n",
       "    }\n",
       "\n",
       "    .dataframe thead th {\n",
       "        text-align: right;\n",
       "    }\n",
       "</style>\n",
       "<table border=\"1\" class=\"dataframe\">\n",
       "  <thead>\n",
       "    <tr style=\"text-align: right;\">\n",
       "      <th></th>\n",
       "      <th>id</th>\n",
       "      <th>flower_class</th>\n",
       "    </tr>\n",
       "  </thead>\n",
       "  <tbody>\n",
       "    <tr>\n",
       "      <th>0</th>\n",
       "      <td>0028624c49b3e0610ff9f1d111f5d532</td>\n",
       "      <td>2</td>\n",
       "    </tr>\n",
       "    <tr>\n",
       "      <th>1</th>\n",
       "      <td>002c30700185b7971369258b438070d5</td>\n",
       "      <td>4</td>\n",
       "    </tr>\n",
       "    <tr>\n",
       "      <th>2</th>\n",
       "      <td>00852f4f666acecd0c0d140365b42efd</td>\n",
       "      <td>4</td>\n",
       "    </tr>\n",
       "    <tr>\n",
       "      <th>3</th>\n",
       "      <td>00c08828fce04e360c732cac01edad9e</td>\n",
       "      <td>4</td>\n",
       "    </tr>\n",
       "    <tr>\n",
       "      <th>4</th>\n",
       "      <td>00d366e7877b6a78b104b57d67b60e6b</td>\n",
       "      <td>4</td>\n",
       "    </tr>\n",
       "    <tr>\n",
       "      <th>...</th>\n",
       "      <td>...</td>\n",
       "      <td>...</td>\n",
       "    </tr>\n",
       "    <tr>\n",
       "      <th>1995</th>\n",
       "      <td>ff7eac29b6d7a33fbd8009677c3e9c58</td>\n",
       "      <td>1</td>\n",
       "    </tr>\n",
       "    <tr>\n",
       "      <th>1996</th>\n",
       "      <td>ffbc32a7b67dfe72b8d35d4b1b35fd6c</td>\n",
       "      <td>1</td>\n",
       "    </tr>\n",
       "    <tr>\n",
       "      <th>1997</th>\n",
       "      <td>ffea1f275c05accb0a6bfd1203620c7e</td>\n",
       "      <td>0</td>\n",
       "    </tr>\n",
       "    <tr>\n",
       "      <th>1998</th>\n",
       "      <td>ffeb2a1cf53464b6af937ab8af0c2946</td>\n",
       "      <td>4</td>\n",
       "    </tr>\n",
       "    <tr>\n",
       "      <th>1999</th>\n",
       "      <td>ffefcc68e2e7eed8b17b0b5b0f740538</td>\n",
       "      <td>1</td>\n",
       "    </tr>\n",
       "  </tbody>\n",
       "</table>\n",
       "<p>2000 rows × 2 columns</p>\n",
       "</div>"
      ],
      "text/plain": [
       "                                    id  flower_class\n",
       "0     0028624c49b3e0610ff9f1d111f5d532             2\n",
       "1     002c30700185b7971369258b438070d5             4\n",
       "2     00852f4f666acecd0c0d140365b42efd             4\n",
       "3     00c08828fce04e360c732cac01edad9e             4\n",
       "4     00d366e7877b6a78b104b57d67b60e6b             4\n",
       "...                                ...           ...\n",
       "1995  ff7eac29b6d7a33fbd8009677c3e9c58             1\n",
       "1996  ffbc32a7b67dfe72b8d35d4b1b35fd6c             1\n",
       "1997  ffea1f275c05accb0a6bfd1203620c7e             0\n",
       "1998  ffeb2a1cf53464b6af937ab8af0c2946             4\n",
       "1999  ffefcc68e2e7eed8b17b0b5b0f740538             1\n",
       "\n",
       "[2000 rows x 2 columns]"
      ]
     },
     "execution_count": 113,
     "metadata": {},
     "output_type": "execute_result"
    }
   ],
   "source": [
    "sub"
   ]
  },
  {
   "cell_type": "code",
   "execution_count": null,
   "metadata": {},
   "outputs": [],
   "source": []
  }
 ],
 "metadata": {
  "kernelspec": {
   "display_name": "Python 3",
   "language": "python",
   "name": "python3"
  },
  "language_info": {
   "codemirror_mode": {
    "name": "ipython",
    "version": 3
   },
   "file_extension": ".py",
   "mimetype": "text/x-python",
   "name": "python",
   "nbconvert_exporter": "python",
   "pygments_lexer": "ipython3",
   "version": "3.7.5"
  }
 },
 "nbformat": 4,
 "nbformat_minor": 2
}
