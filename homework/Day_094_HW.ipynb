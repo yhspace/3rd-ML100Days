{
 "cells": [
  {
   "cell_type": "markdown",
   "metadata": {},
   "source": [
    "# 作業目標:\n",
    "    了解 Convolution 卷積的組成"
   ]
  },
  {
   "cell_type": "markdown",
   "metadata": {},
   "source": [
    "# 作業重點:\n",
    "    修改 a_slice_prev, 檢查 Z 的輸出"
   ]
  },
  {
   "cell_type": "code",
   "execution_count": 1,
   "metadata": {},
   "outputs": [],
   "source": [
    "import numpy as np"
   ]
  },
  {
   "cell_type": "code",
   "execution_count": 2,
   "metadata": {},
   "outputs": [],
   "source": [
    "# GRADED FUNCTION: conv_single_step\n",
    "def conv_single_step(a_slice_prev, W, b):\n",
    "    \"\"\"\n",
    "    定義一層 Kernel (內核), 使用的參數說明如下\n",
    "    Arguments:\n",
    "        a_slice_prev -- 輸入資料的維度\n",
    "        W -- 權重, 被使用在 a_slice_prev\n",
    "        b -- 偏差參數 \n",
    "    Returns:\n",
    "        Z -- 滑動窗口（W，b）卷積在前一個 feature map 上的結果\n",
    "    \"\"\"\n",
    "\n",
    "    # 定義一個元素介於 a_slice and W\n",
    "    s = a_slice_prev * W\n",
    "    # 加總所有的 \"s\" 並指定給Z.\n",
    "    Z = np.sum(s)\n",
    "    # Add bias b to Z. 這是 float() 函數,\n",
    "    Z = float(Z + b)\n",
    "\n",
    "    return Z"
   ]
  },
  {
   "cell_type": "code",
   "execution_count": 3,
   "metadata": {},
   "outputs": [],
   "source": [
    "'''\n",
    "\n",
    "np.random.seed(1)\n",
    "#定義一個 axaxd 的 feature map\n",
    "a_slice_prev = \n",
    "W = \n",
    "b = np.random.randn(1, 1, 1)\n",
    "\n",
    "#取得計算後,卷積矩陣的值\n",
    "Z = conv_single_step(a_slice_prev, W, b)\n",
    "print(\"Z =\", Z)\n",
    "'''\n",
    "\n",
    "np.random.seed(1)\n",
    "#定義一個 4x4x3 的 feature map\n",
    "a_slice_prev = np.arange(4*4*3).reshape(4,4,3)\n",
    "W = np.random.randn(4, 4, 3)\n",
    "b = np.ones((1, 1, 1))\n",
    "\n",
    "#取得計算後,卷績矩陣的值\n",
    "Z = conv_single_step(a_slice_prev, W, b)"
   ]
  },
  {
   "cell_type": "code",
   "execution_count": 4,
   "metadata": {},
   "outputs": [
    {
     "data": {
      "text/plain": [
       "array([[[ 0,  1,  2],\n",
       "        [ 3,  4,  5],\n",
       "        [ 6,  7,  8],\n",
       "        [ 9, 10, 11]],\n",
       "\n",
       "       [[12, 13, 14],\n",
       "        [15, 16, 17],\n",
       "        [18, 19, 20],\n",
       "        [21, 22, 23]],\n",
       "\n",
       "       [[24, 25, 26],\n",
       "        [27, 28, 29],\n",
       "        [30, 31, 32],\n",
       "        [33, 34, 35]],\n",
       "\n",
       "       [[36, 37, 38],\n",
       "        [39, 40, 41],\n",
       "        [42, 43, 44],\n",
       "        [45, 46, 47]]])"
      ]
     },
     "execution_count": 4,
     "metadata": {},
     "output_type": "execute_result"
    }
   ],
   "source": [
    "a_slice_prev"
   ]
  },
  {
   "cell_type": "code",
   "execution_count": 5,
   "metadata": {},
   "outputs": [
    {
     "name": "stdout",
     "output_type": "stream",
     "text": [
      "[[[ 1.62434536 -0.61175641 -0.52817175]\n",
      "  [-1.07296862  0.86540763 -2.3015387 ]\n",
      "  [ 1.74481176 -0.7612069   0.3190391 ]\n",
      "  [-0.24937038  1.46210794 -2.06014071]]\n",
      "\n",
      " [[-0.3224172  -0.38405435  1.13376944]\n",
      "  [-1.09989127 -0.17242821 -0.87785842]\n",
      "  [ 0.04221375  0.58281521 -1.10061918]\n",
      "  [ 1.14472371  0.90159072  0.50249434]]\n",
      "\n",
      " [[ 0.90085595 -0.68372786 -0.12289023]\n",
      "  [-0.93576943 -0.26788808  0.53035547]\n",
      "  [-0.69166075 -0.39675353 -0.6871727 ]\n",
      "  [-0.84520564 -0.67124613 -0.0126646 ]]\n",
      "\n",
      " [[-1.11731035  0.2344157   1.65980218]\n",
      "  [ 0.74204416 -0.19183555 -0.88762896]\n",
      "  [-0.74715829  1.6924546   0.05080775]\n",
      "  [-0.63699565  0.19091548  2.10025514]]]\n"
     ]
    },
    {
     "data": {
      "text/plain": [
       "array([[[1.]]])"
      ]
     },
     "execution_count": 5,
     "metadata": {},
     "output_type": "execute_result"
    }
   ],
   "source": [
    "print(W)\n",
    "b"
   ]
  },
  {
   "cell_type": "code",
   "execution_count": 6,
   "metadata": {},
   "outputs": [
    {
     "data": {
      "text/plain": [
       "array([[[ 1.00000000e+00,  3.88243586e-01, -5.63435045e-02],\n",
       "        [-2.21890587e+00,  4.46163052e+00, -1.05076935e+01],\n",
       "        [ 1.14688706e+01, -4.32844831e+00,  3.55231277e+00],\n",
       "        [-1.24433338e+00,  1.56210794e+01, -2.16615478e+01]],\n",
       "\n",
       "       [[-2.86900645e+00, -3.99270661e+00,  1.68727722e+01],\n",
       "        [-1.54983690e+01, -1.75885132e+00, -1.39235931e+01],\n",
       "        [ 1.75984744e+00,  1.20734891e+01, -2.10123835e+01],\n",
       "        [ 2.50391979e+01,  2.08349959e+01,  1.25573698e+01]],\n",
       "\n",
       "       [[ 2.26205428e+01, -1.60931965e+01, -2.19514586e+00],\n",
       "        [-2.42657747e+01, -6.50086623e+00,  1.63803085e+01],\n",
       "        [-1.97498226e+01, -1.12993593e+01, -2.09895264e+01],\n",
       "        [-2.68917862e+01, -2.18223684e+01,  5.56739038e-01]],\n",
       "\n",
       "       [[-3.92231726e+01,  9.67338082e+00,  6.40724827e+01],\n",
       "        [ 2.99397223e+01, -6.67342209e+00, -3.53927875e+01],\n",
       "        [-3.03806483e+01,  7.37755478e+01,  3.23554121e+00],\n",
       "        [-2.76648041e+01,  9.78211229e+00,  9.97119914e+01]]])"
      ]
     },
     "execution_count": 6,
     "metadata": {},
     "output_type": "execute_result"
    }
   ],
   "source": [
    "a_slice_prev*W+b"
   ]
  },
  {
   "cell_type": "code",
   "execution_count": 8,
   "metadata": {},
   "outputs": [
    {
     "data": {
      "text/plain": [
       "20.163314814419635"
      ]
     },
     "execution_count": 8,
     "metadata": {},
     "output_type": "execute_result"
    }
   ],
   "source": [
    "Z"
   ]
  },
  {
   "cell_type": "code",
   "execution_count": null,
   "metadata": {},
   "outputs": [],
   "source": []
  }
 ],
 "metadata": {
  "kernelspec": {
   "display_name": "Python 3",
   "language": "python",
   "name": "python3"
  },
  "language_info": {
   "codemirror_mode": {
    "name": "ipython",
    "version": 3
   },
   "file_extension": ".py",
   "mimetype": "text/x-python",
   "name": "python",
   "nbconvert_exporter": "python",
   "pygments_lexer": "ipython3",
   "version": "3.7.5"
  }
 },
 "nbformat": 4,
 "nbformat_minor": 2
}
