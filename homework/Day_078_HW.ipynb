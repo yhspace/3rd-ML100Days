{
 "cells": [
  {
   "cell_type": "markdown",
   "metadata": {},
   "source": [
    "## Work\n",
    "1. 請嘗試將 preproc_x 替換成以每筆資料的 min/max 進行標準化至 -1 ~ 1 間，再進行訓練\n",
    "2. 請嘗試將 mlp 疊更深 (e.g 5~10 層)，進行訓練後觀察 learning curve 的走勢\n",
    "3. (optional) 請改用 GPU 進行訓練 (如果你有 GPU 的話)，比較使用 CPU 與 GPU 的訓練速度"
   ]
  },
  {
   "cell_type": "code",
   "execution_count": 1,
   "metadata": {},
   "outputs": [
    {
     "name": "stderr",
     "output_type": "stream",
     "text": [
      "'nvidia-smi' 不是內部或外部命令、可執行的程式或批次檔。\n"
     ]
    }
   ],
   "source": [
    "## \n",
    "\"\"\"\n",
    "Your code here (optional)\n",
    "確認硬體資源\n",
    "\"\"\"\n",
    "!nvidia-smi"
   ]
  },
  {
   "cell_type": "code",
   "execution_count": 1,
   "metadata": {},
   "outputs": [
    {
     "name": "stderr",
     "output_type": "stream",
     "text": [
      "Using TensorFlow backend.\n",
      "C:\\Users\\User\\.conda\\envs\\tf1-gpu\\lib\\site-packages\\tensorflow\\python\\framework\\dtypes.py:516: FutureWarning: Passing (type, 1) or '1type' as a synonym of type is deprecated; in a future version of numpy, it will be understood as (type, (1,)) / '(1,)type'.\n",
      "  _np_qint8 = np.dtype([(\"qint8\", np.int8, 1)])\n",
      "C:\\Users\\User\\.conda\\envs\\tf1-gpu\\lib\\site-packages\\tensorflow\\python\\framework\\dtypes.py:517: FutureWarning: Passing (type, 1) or '1type' as a synonym of type is deprecated; in a future version of numpy, it will be understood as (type, (1,)) / '(1,)type'.\n",
      "  _np_quint8 = np.dtype([(\"quint8\", np.uint8, 1)])\n",
      "C:\\Users\\User\\.conda\\envs\\tf1-gpu\\lib\\site-packages\\tensorflow\\python\\framework\\dtypes.py:518: FutureWarning: Passing (type, 1) or '1type' as a synonym of type is deprecated; in a future version of numpy, it will be understood as (type, (1,)) / '(1,)type'.\n",
      "  _np_qint16 = np.dtype([(\"qint16\", np.int16, 1)])\n",
      "C:\\Users\\User\\.conda\\envs\\tf1-gpu\\lib\\site-packages\\tensorflow\\python\\framework\\dtypes.py:519: FutureWarning: Passing (type, 1) or '1type' as a synonym of type is deprecated; in a future version of numpy, it will be understood as (type, (1,)) / '(1,)type'.\n",
      "  _np_quint16 = np.dtype([(\"quint16\", np.uint16, 1)])\n",
      "C:\\Users\\User\\.conda\\envs\\tf1-gpu\\lib\\site-packages\\tensorflow\\python\\framework\\dtypes.py:520: FutureWarning: Passing (type, 1) or '1type' as a synonym of type is deprecated; in a future version of numpy, it will be understood as (type, (1,)) / '(1,)type'.\n",
      "  _np_qint32 = np.dtype([(\"qint32\", np.int32, 1)])\n",
      "C:\\Users\\User\\.conda\\envs\\tf1-gpu\\lib\\site-packages\\tensorflow\\python\\framework\\dtypes.py:525: FutureWarning: Passing (type, 1) or '1type' as a synonym of type is deprecated; in a future version of numpy, it will be understood as (type, (1,)) / '(1,)type'.\n",
      "  np_resource = np.dtype([(\"resource\", np.ubyte, 1)])\n",
      "C:\\Users\\User\\.conda\\envs\\tf1-gpu\\lib\\site-packages\\tensorboard\\compat\\tensorflow_stub\\dtypes.py:541: FutureWarning: Passing (type, 1) or '1type' as a synonym of type is deprecated; in a future version of numpy, it will be understood as (type, (1,)) / '(1,)type'.\n",
      "  _np_qint8 = np.dtype([(\"qint8\", np.int8, 1)])\n",
      "C:\\Users\\User\\.conda\\envs\\tf1-gpu\\lib\\site-packages\\tensorboard\\compat\\tensorflow_stub\\dtypes.py:542: FutureWarning: Passing (type, 1) or '1type' as a synonym of type is deprecated; in a future version of numpy, it will be understood as (type, (1,)) / '(1,)type'.\n",
      "  _np_quint8 = np.dtype([(\"quint8\", np.uint8, 1)])\n",
      "C:\\Users\\User\\.conda\\envs\\tf1-gpu\\lib\\site-packages\\tensorboard\\compat\\tensorflow_stub\\dtypes.py:543: FutureWarning: Passing (type, 1) or '1type' as a synonym of type is deprecated; in a future version of numpy, it will be understood as (type, (1,)) / '(1,)type'.\n",
      "  _np_qint16 = np.dtype([(\"qint16\", np.int16, 1)])\n",
      "C:\\Users\\User\\.conda\\envs\\tf1-gpu\\lib\\site-packages\\tensorboard\\compat\\tensorflow_stub\\dtypes.py:544: FutureWarning: Passing (type, 1) or '1type' as a synonym of type is deprecated; in a future version of numpy, it will be understood as (type, (1,)) / '(1,)type'.\n",
      "  _np_quint16 = np.dtype([(\"quint16\", np.uint16, 1)])\n",
      "C:\\Users\\User\\.conda\\envs\\tf1-gpu\\lib\\site-packages\\tensorboard\\compat\\tensorflow_stub\\dtypes.py:545: FutureWarning: Passing (type, 1) or '1type' as a synonym of type is deprecated; in a future version of numpy, it will be understood as (type, (1,)) / '(1,)type'.\n",
      "  _np_qint32 = np.dtype([(\"qint32\", np.int32, 1)])\n",
      "C:\\Users\\User\\.conda\\envs\\tf1-gpu\\lib\\site-packages\\tensorboard\\compat\\tensorflow_stub\\dtypes.py:550: FutureWarning: Passing (type, 1) or '1type' as a synonym of type is deprecated; in a future version of numpy, it will be understood as (type, (1,)) / '(1,)type'.\n",
      "  np_resource = np.dtype([(\"resource\", np.ubyte, 1)])\n"
     ]
    }
   ],
   "source": [
    "import os\n",
    "import keras\n",
    "\n",
    "# 請嘗試設定 GPU：os.environ\n",
    "\n",
    "# Blas GEMM launch failed , 避免動態分配GPU / CPU, 出現問題\n",
    "import tensorflow as tf\n",
    "gpu_options = tf.GPUOptions(per_process_gpu_memory_fraction=0.3333)\n",
    "sess = tf.Session(config=tf.ConfigProto(gpu_options=gpu_options))"
   ]
  },
  {
   "cell_type": "code",
   "execution_count": 2,
   "metadata": {},
   "outputs": [],
   "source": [
    "train, test = keras.datasets.cifar10.load_data()"
   ]
  },
  {
   "cell_type": "code",
   "execution_count": 5,
   "metadata": {},
   "outputs": [],
   "source": [
    "## 資料前處理\n",
    "\"\"\"\n",
    "Your code here\n",
    "\"\"\"\n",
    "def preproc_x(x, flatten=True):\n",
    "    x = x / 255.\n",
    "    if flatten:\n",
    "        x = x.reshape((len(x), -1))\n",
    "    return x\n",
    "\n",
    "def preproc_y(y, num_classes=10):\n",
    "    if y.shape[-1] == 1:\n",
    "        y = keras.utils.to_categorical(y, num_classes)\n",
    "    return y    "
   ]
  },
  {
   "cell_type": "code",
   "execution_count": 6,
   "metadata": {},
   "outputs": [],
   "source": [
    "x_train, y_train = train\n",
    "x_test, y_test = test\n",
    "\n",
    "# Preproc the inputs\n",
    "x_train = preproc_x(x_train)\n",
    "x_test = preproc_x(x_test)\n",
    "\n",
    "# Preprc the outputs\n",
    "y_train = preproc_y(y_train)\n",
    "y_test = preproc_y(y_test)"
   ]
  },
  {
   "cell_type": "code",
   "execution_count": 9,
   "metadata": {},
   "outputs": [
    {
     "name": "stdout",
     "output_type": "stream",
     "text": [
      "Model: \"model_3\"\n",
      "_________________________________________________________________\n",
      "Layer (type)                 Output Shape              Param #   \n",
      "=================================================================\n",
      "input_3 (InputLayer)         (None, 3072)              0         \n",
      "_________________________________________________________________\n",
      "hidden_layer1 (Dense)        (None, 256)               786688    \n",
      "_________________________________________________________________\n",
      "hidden_layer2 (Dense)        (None, 256)               65792     \n",
      "_________________________________________________________________\n",
      "hidden_layer3 (Dense)        (None, 128)               32896     \n",
      "_________________________________________________________________\n",
      "hidden_layer4 (Dense)        (None, 128)               16512     \n",
      "_________________________________________________________________\n",
      "hidden_layer5 (Dense)        (None, 64)                8256      \n",
      "_________________________________________________________________\n",
      "hidden_layer6 (Dense)        (None, 64)                4160      \n",
      "_________________________________________________________________\n",
      "hidden_layer7 (Dense)        (None, 32)                2080      \n",
      "_________________________________________________________________\n",
      "output (Dense)               (None, 10)                330       \n",
      "=================================================================\n",
      "Total params: 916,714\n",
      "Trainable params: 916,714\n",
      "Non-trainable params: 0\n",
      "_________________________________________________________________\n"
     ]
    }
   ],
   "source": [
    "\"\"\"Code Here\n",
    "建立你的神經網路\n",
    "\"\"\"\n",
    "def build_mlp(input_shape, output_units=10, num_neurons=[512, 256, 128]):\n",
    "    input_layer = keras.layers.Input(input_shape)\n",
    "    \n",
    "    num_neurons=[256, 256, 128,128,64,64,32]\n",
    "    \n",
    "    for i, n_units in enumerate(num_neurons):\n",
    "        if i == 0:\n",
    "            x = keras.layers.Dense(units=n_units, activation=\"relu\", name=\"hidden_layer\"+str(i+1))(input_layer)\n",
    "        else:\n",
    "            x = keras.layers.Dense(units=n_units, activation=\"relu\", name=\"hidden_layer\"+str(i+1))(x)\n",
    "    \n",
    "    out = keras.layers.Dense(units=output_units, activation=\"softmax\", name=\"output\")(x)\n",
    "    \n",
    "    model = keras.models.Model(inputs=[input_layer], outputs=[out])\n",
    "    return model\n",
    "\n",
    "model = build_mlp(input_shape=x_train.shape[1:])\n",
    "\n",
    "model.summary()"
   ]
  },
  {
   "cell_type": "code",
   "execution_count": 10,
   "metadata": {},
   "outputs": [],
   "source": [
    "## 超參數設定\n",
    "LEARNING_RATE = 0.001\n",
    "EPOCHS = 100\n",
    "BATCH_SIZE = 256"
   ]
  },
  {
   "cell_type": "code",
   "execution_count": 11,
   "metadata": {},
   "outputs": [],
   "source": [
    "optimizer = keras.optimizers.Adam(lr=LEARNING_RATE)\n",
    "model.compile(loss=\"categorical_crossentropy\", metrics=[\"accuracy\"], optimizer=optimizer)"
   ]
  },
  {
   "cell_type": "code",
   "execution_count": 12,
   "metadata": {},
   "outputs": [
    {
     "name": "stdout",
     "output_type": "stream",
     "text": [
      "WARNING:tensorflow:From C:\\Users\\User\\.conda\\envs\\tf1-gpu\\lib\\site-packages\\keras\\backend\\tensorflow_backend.py:422: The name tf.global_variables is deprecated. Please use tf.compat.v1.global_variables instead.\n",
      "\n",
      "Train on 50000 samples, validate on 10000 samples\n",
      "Epoch 1/100\n",
      "50000/50000 [==============================] - 10s 204us/step - loss: 1.9640 - accuracy: 0.2741 - val_loss: 1.8081 - val_accuracy: 0.3308\n",
      "Epoch 2/100\n",
      "50000/50000 [==============================] - 8s 170us/step - loss: 1.7380 - accuracy: 0.3715 - val_loss: 1.6912 - val_accuracy: 0.3870\n",
      "Epoch 3/100\n",
      "50000/50000 [==============================] - 9s 176us/step - loss: 1.6760 - accuracy: 0.3975 - val_loss: 1.6656 - val_accuracy: 0.4009\n",
      "Epoch 4/100\n",
      "50000/50000 [==============================] - 8s 165us/step - loss: 1.6013 - accuracy: 0.4262 - val_loss: 1.6309 - val_accuracy: 0.4172\n",
      "Epoch 5/100\n",
      "50000/50000 [==============================] - 8s 166us/step - loss: 1.5528 - accuracy: 0.4404 - val_loss: 1.5631 - val_accuracy: 0.4376\n",
      "Epoch 6/100\n",
      "50000/50000 [==============================] - 8s 157us/step - loss: 1.4990 - accuracy: 0.4637 - val_loss: 1.5148 - val_accuracy: 0.4589\n",
      "Epoch 7/100\n",
      "50000/50000 [==============================] - 8s 164us/step - loss: 1.4682 - accuracy: 0.4729 - val_loss: 1.5250 - val_accuracy: 0.4491\n",
      "Epoch 8/100\n",
      "50000/50000 [==============================] - 8s 161us/step - loss: 1.4366 - accuracy: 0.4833 - val_loss: 1.5038 - val_accuracy: 0.4710\n",
      "Epoch 9/100\n",
      "50000/50000 [==============================] - 9s 173us/step - loss: 1.4137 - accuracy: 0.4951 - val_loss: 1.5959 - val_accuracy: 0.4408\n",
      "Epoch 10/100\n",
      "50000/50000 [==============================] - 8s 166us/step - loss: 1.3863 - accuracy: 0.5038 - val_loss: 1.4335 - val_accuracy: 0.4889\n",
      "Epoch 11/100\n",
      "50000/50000 [==============================] - 9s 181us/step - loss: 1.3569 - accuracy: 0.5144 - val_loss: 1.4431 - val_accuracy: 0.4930\n",
      "Epoch 12/100\n",
      "50000/50000 [==============================] - 8s 157us/step - loss: 1.3313 - accuracy: 0.5264 - val_loss: 1.4279 - val_accuracy: 0.4934\n",
      "Epoch 13/100\n",
      "50000/50000 [==============================] - 8s 167us/step - loss: 1.3104 - accuracy: 0.5315 - val_loss: 1.3954 - val_accuracy: 0.5070\n",
      "Epoch 14/100\n",
      "50000/50000 [==============================] - 8s 161us/step - loss: 1.2931 - accuracy: 0.5377 - val_loss: 1.4228 - val_accuracy: 0.4956\n",
      "Epoch 15/100\n",
      "50000/50000 [==============================] - 9s 178us/step - loss: 1.2650 - accuracy: 0.5499 - val_loss: 1.3898 - val_accuracy: 0.5092\n",
      "Epoch 16/100\n",
      "50000/50000 [==============================] - 9s 174us/step - loss: 1.2494 - accuracy: 0.5532 - val_loss: 1.4333 - val_accuracy: 0.4996\n",
      "Epoch 17/100\n",
      "50000/50000 [==============================] - 8s 169us/step - loss: 1.2239 - accuracy: 0.5617 - val_loss: 1.4532 - val_accuracy: 0.4931\n",
      "Epoch 18/100\n",
      "50000/50000 [==============================] - 9s 172us/step - loss: 1.2110 - accuracy: 0.5678 - val_loss: 1.4488 - val_accuracy: 0.4839\n",
      "Epoch 19/100\n",
      "50000/50000 [==============================] - 9s 172us/step - loss: 1.1815 - accuracy: 0.5778 - val_loss: 1.4327 - val_accuracy: 0.4914\n",
      "Epoch 20/100\n",
      "50000/50000 [==============================] - 9s 175us/step - loss: 1.1719 - accuracy: 0.5826 - val_loss: 1.3818 - val_accuracy: 0.5190\n",
      "Epoch 21/100\n",
      "50000/50000 [==============================] - 8s 169us/step - loss: 1.1429 - accuracy: 0.5927 - val_loss: 1.3984 - val_accuracy: 0.5116\n",
      "Epoch 22/100\n",
      "50000/50000 [==============================] - 8s 165us/step - loss: 1.1203 - accuracy: 0.5971 - val_loss: 1.4259 - val_accuracy: 0.5031\n",
      "Epoch 23/100\n",
      "50000/50000 [==============================] - 8s 156us/step - loss: 1.1112 - accuracy: 0.6014 - val_loss: 1.4123 - val_accuracy: 0.5143\n",
      "Epoch 24/100\n",
      "50000/50000 [==============================] - 8s 163us/step - loss: 1.0860 - accuracy: 0.6113 - val_loss: 1.4141 - val_accuracy: 0.5127\n",
      "Epoch 25/100\n",
      "50000/50000 [==============================] - 8s 163us/step - loss: 1.0734 - accuracy: 0.6164 - val_loss: 1.4164 - val_accuracy: 0.5052\n",
      "Epoch 26/100\n",
      "50000/50000 [==============================] - 9s 184us/step - loss: 1.0530 - accuracy: 0.6235 - val_loss: 1.4328 - val_accuracy: 0.5174\n",
      "Epoch 27/100\n",
      "50000/50000 [==============================] - 9s 179us/step - loss: 1.0405 - accuracy: 0.6266 - val_loss: 1.4141 - val_accuracy: 0.5108\n",
      "Epoch 28/100\n",
      "50000/50000 [==============================] - 8s 164us/step - loss: 1.0073 - accuracy: 0.6402 - val_loss: 1.4365 - val_accuracy: 0.5231\n",
      "Epoch 29/100\n",
      "50000/50000 [==============================] - 8s 159us/step - loss: 0.9966 - accuracy: 0.6448 - val_loss: 1.4808 - val_accuracy: 0.5158\n",
      "Epoch 30/100\n",
      "50000/50000 [==============================] - 8s 168us/step - loss: 0.9802 - accuracy: 0.6501 - val_loss: 1.4450 - val_accuracy: 0.5190\n",
      "Epoch 31/100\n",
      "50000/50000 [==============================] - 8s 159us/step - loss: 0.9567 - accuracy: 0.6573 - val_loss: 1.4866 - val_accuracy: 0.5120\n",
      "Epoch 32/100\n",
      "50000/50000 [==============================] - 8s 166us/step - loss: 0.9495 - accuracy: 0.6596 - val_loss: 1.4718 - val_accuracy: 0.5212\n",
      "Epoch 33/100\n",
      "50000/50000 [==============================] - 8s 162us/step - loss: 0.9193 - accuracy: 0.6725 - val_loss: 1.4990 - val_accuracy: 0.5155\n",
      "Epoch 34/100\n",
      "50000/50000 [==============================] - 9s 170us/step - loss: 0.9155 - accuracy: 0.6727 - val_loss: 1.5709 - val_accuracy: 0.5025\n",
      "Epoch 35/100\n",
      "50000/50000 [==============================] - 8s 158us/step - loss: 0.8948 - accuracy: 0.6790 - val_loss: 1.5148 - val_accuracy: 0.5216\n",
      "Epoch 36/100\n",
      "50000/50000 [==============================] - 9s 170us/step - loss: 0.8777 - accuracy: 0.6879 - val_loss: 1.5225 - val_accuracy: 0.5203\n",
      "Epoch 37/100\n",
      "50000/50000 [==============================] - 8s 160us/step - loss: 0.8574 - accuracy: 0.6925 - val_loss: 1.5749 - val_accuracy: 0.5091\n",
      "Epoch 38/100\n",
      "50000/50000 [==============================] - 9s 171us/step - loss: 0.8388 - accuracy: 0.6984 - val_loss: 1.5907 - val_accuracy: 0.5184\n",
      "Epoch 39/100\n",
      "50000/50000 [==============================] - 8s 168us/step - loss: 0.8302 - accuracy: 0.7040 - val_loss: 1.5649 - val_accuracy: 0.5117\n",
      "Epoch 40/100\n",
      "50000/50000 [==============================] - 9s 182us/step - loss: 0.8256 - accuracy: 0.7041 - val_loss: 1.5948 - val_accuracy: 0.5159\n",
      "Epoch 41/100\n",
      "50000/50000 [==============================] - 9s 173us/step - loss: 0.8006 - accuracy: 0.7135 - val_loss: 1.6084 - val_accuracy: 0.5192\n",
      "Epoch 42/100\n",
      "50000/50000 [==============================] - 9s 180us/step - loss: 0.7895 - accuracy: 0.7190 - val_loss: 1.6473 - val_accuracy: 0.5145\n",
      "Epoch 43/100\n",
      "50000/50000 [==============================] - 8s 162us/step - loss: 0.7723 - accuracy: 0.7224 - val_loss: 1.6219 - val_accuracy: 0.5160\n",
      "Epoch 44/100\n",
      "50000/50000 [==============================] - 9s 183us/step - loss: 0.7478 - accuracy: 0.7337 - val_loss: 1.7177 - val_accuracy: 0.5154\n",
      "Epoch 45/100\n",
      "50000/50000 [==============================] - 9s 175us/step - loss: 0.7405 - accuracy: 0.7365 - val_loss: 1.7068 - val_accuracy: 0.5109\n",
      "Epoch 46/100\n",
      "50000/50000 [==============================] - 9s 173us/step - loss: 0.7236 - accuracy: 0.7415 - val_loss: 1.7073 - val_accuracy: 0.5097\n",
      "Epoch 47/100\n",
      "50000/50000 [==============================] - 9s 173us/step - loss: 0.7174 - accuracy: 0.7427 - val_loss: 1.7416 - val_accuracy: 0.5073\n",
      "Epoch 48/100\n",
      "50000/50000 [==============================] - 9s 175us/step - loss: 0.7269 - accuracy: 0.7397 - val_loss: 1.7393 - val_accuracy: 0.5152\n",
      "Epoch 49/100\n",
      "50000/50000 [==============================] - 8s 165us/step - loss: 0.6911 - accuracy: 0.7524 - val_loss: 1.7774 - val_accuracy: 0.5092\n",
      "Epoch 50/100\n",
      "50000/50000 [==============================] - 9s 174us/step - loss: 0.6910 - accuracy: 0.7520 - val_loss: 1.8294 - val_accuracy: 0.4964\n",
      "Epoch 51/100\n",
      "50000/50000 [==============================] - 8s 160us/step - loss: 0.6719 - accuracy: 0.7603 - val_loss: 1.8430 - val_accuracy: 0.5099\n",
      "Epoch 52/100\n",
      "50000/50000 [==============================] - 8s 169us/step - loss: 0.6426 - accuracy: 0.7696 - val_loss: 1.8981 - val_accuracy: 0.4990\n",
      "Epoch 53/100\n",
      "50000/50000 [==============================] - 8s 162us/step - loss: 0.6424 - accuracy: 0.7712 - val_loss: 1.9452 - val_accuracy: 0.5027\n"
     ]
    },
    {
     "name": "stdout",
     "output_type": "stream",
     "text": [
      "Epoch 54/100\n",
      "50000/50000 [==============================] - 8s 165us/step - loss: 0.6486 - accuracy: 0.7671 - val_loss: 1.9172 - val_accuracy: 0.5061\n",
      "Epoch 55/100\n",
      "50000/50000 [==============================] - 8s 160us/step - loss: 0.6264 - accuracy: 0.7754 - val_loss: 1.9862 - val_accuracy: 0.4993\n",
      "Epoch 56/100\n",
      "50000/50000 [==============================] - 8s 166us/step - loss: 0.6048 - accuracy: 0.7856 - val_loss: 1.9920 - val_accuracy: 0.5015\n",
      "Epoch 57/100\n",
      "50000/50000 [==============================] - 8s 160us/step - loss: 0.6017 - accuracy: 0.7831 - val_loss: 1.9559 - val_accuracy: 0.5057\n",
      "Epoch 58/100\n",
      "50000/50000 [==============================] - 8s 164us/step - loss: 0.5903 - accuracy: 0.7885 - val_loss: 2.0592 - val_accuracy: 0.5068\n",
      "Epoch 59/100\n",
      "50000/50000 [==============================] - 8s 162us/step - loss: 0.5753 - accuracy: 0.7934 - val_loss: 2.0002 - val_accuracy: 0.5039\n",
      "Epoch 60/100\n",
      "50000/50000 [==============================] - 9s 171us/step - loss: 0.5894 - accuracy: 0.7898 - val_loss: 2.0285 - val_accuracy: 0.5034\n",
      "Epoch 61/100\n",
      "50000/50000 [==============================] - 8s 156us/step - loss: 0.5742 - accuracy: 0.7942 - val_loss: 2.0497 - val_accuracy: 0.4973\n",
      "Epoch 62/100\n",
      "50000/50000 [==============================] - 8s 167us/step - loss: 0.5628 - accuracy: 0.7978 - val_loss: 2.1240 - val_accuracy: 0.5036\n",
      "Epoch 63/100\n",
      "50000/50000 [==============================] - 8s 164us/step - loss: 0.5395 - accuracy: 0.8077 - val_loss: 2.1501 - val_accuracy: 0.5009\n",
      "Epoch 64/100\n",
      "50000/50000 [==============================] - 8s 167us/step - loss: 0.5451 - accuracy: 0.8052 - val_loss: 2.1683 - val_accuracy: 0.4963\n",
      "Epoch 65/100\n",
      "50000/50000 [==============================] - 8s 157us/step - loss: 0.5262 - accuracy: 0.8137 - val_loss: 2.1913 - val_accuracy: 0.5023\n",
      "Epoch 66/100\n",
      "50000/50000 [==============================] - 8s 166us/step - loss: 0.5254 - accuracy: 0.8130 - val_loss: 2.1994 - val_accuracy: 0.4949\n",
      "Epoch 67/100\n",
      "50000/50000 [==============================] - 8s 167us/step - loss: 0.5182 - accuracy: 0.8120 - val_loss: 2.2340 - val_accuracy: 0.4953\n",
      "Epoch 68/100\n",
      "50000/50000 [==============================] - 8s 167us/step - loss: 0.5083 - accuracy: 0.8191 - val_loss: 2.2260 - val_accuracy: 0.4956\n",
      "Epoch 69/100\n",
      "50000/50000 [==============================] - 9s 179us/step - loss: 0.5024 - accuracy: 0.8205 - val_loss: 2.3409 - val_accuracy: 0.5020\n",
      "Epoch 70/100\n",
      "50000/50000 [==============================] - 9s 172us/step - loss: 0.5012 - accuracy: 0.8190 - val_loss: 2.3541 - val_accuracy: 0.4925\n",
      "Epoch 71/100\n",
      "50000/50000 [==============================] - 8s 169us/step - loss: 0.4851 - accuracy: 0.8241 - val_loss: 2.3783 - val_accuracy: 0.4930\n",
      "Epoch 72/100\n",
      "50000/50000 [==============================] - 9s 171us/step - loss: 0.4972 - accuracy: 0.8231 - val_loss: 2.3829 - val_accuracy: 0.5072\n",
      "Epoch 73/100\n",
      "50000/50000 [==============================] - 8s 163us/step - loss: 0.4670 - accuracy: 0.8321 - val_loss: 2.5240 - val_accuracy: 0.4788\n",
      "Epoch 74/100\n",
      "50000/50000 [==============================] - 9s 182us/step - loss: 0.4787 - accuracy: 0.8299 - val_loss: 2.3953 - val_accuracy: 0.5022\n",
      "Epoch 75/100\n",
      "50000/50000 [==============================] - 9s 171us/step - loss: 0.4639 - accuracy: 0.8338 - val_loss: 2.5066 - val_accuracy: 0.4953\n",
      "Epoch 76/100\n",
      "50000/50000 [==============================] - 9s 178us/step - loss: 0.4554 - accuracy: 0.8378 - val_loss: 2.3951 - val_accuracy: 0.4982\n",
      "Epoch 77/100\n",
      "50000/50000 [==============================] - 8s 158us/step - loss: 0.4536 - accuracy: 0.8387 - val_loss: 2.5565 - val_accuracy: 0.4994\n",
      "Epoch 78/100\n",
      "50000/50000 [==============================] - 8s 168us/step - loss: 0.4471 - accuracy: 0.8406 - val_loss: 2.5642 - val_accuracy: 0.4961\n",
      "Epoch 79/100\n",
      "50000/50000 [==============================] - 8s 161us/step - loss: 0.4494 - accuracy: 0.8395 - val_loss: 2.4830 - val_accuracy: 0.4963\n",
      "Epoch 80/100\n",
      "50000/50000 [==============================] - 8s 168us/step - loss: 0.4309 - accuracy: 0.8467 - val_loss: 2.6475 - val_accuracy: 0.5002\n",
      "Epoch 81/100\n",
      "50000/50000 [==============================] - 9s 172us/step - loss: 0.4286 - accuracy: 0.8456 - val_loss: 2.5615 - val_accuracy: 0.4994\n",
      "Epoch 82/100\n",
      "50000/50000 [==============================] - 9s 177us/step - loss: 0.4189 - accuracy: 0.8510 - val_loss: 2.6109 - val_accuracy: 0.5017\n",
      "Epoch 83/100\n",
      "50000/50000 [==============================] - 9s 171us/step - loss: 0.4073 - accuracy: 0.8563 - val_loss: 2.6937 - val_accuracy: 0.4932\n",
      "Epoch 84/100\n",
      "50000/50000 [==============================] - 9s 180us/step - loss: 0.4101 - accuracy: 0.8532 - val_loss: 2.6465 - val_accuracy: 0.4842\n",
      "Epoch 85/100\n",
      "50000/50000 [==============================] - 9s 172us/step - loss: 0.4343 - accuracy: 0.8449 - val_loss: 2.6611 - val_accuracy: 0.4916\n",
      "Epoch 86/100\n",
      "50000/50000 [==============================] - 9s 177us/step - loss: 0.4067 - accuracy: 0.8556 - val_loss: 2.6998 - val_accuracy: 0.4967\n",
      "Epoch 87/100\n",
      "50000/50000 [==============================] - 9s 170us/step - loss: 0.4047 - accuracy: 0.8564 - val_loss: 2.6565 - val_accuracy: 0.4970\n",
      "Epoch 88/100\n",
      "50000/50000 [==============================] - 9s 185us/step - loss: 0.3887 - accuracy: 0.8627 - val_loss: 2.8097 - val_accuracy: 0.4890\n",
      "Epoch 89/100\n",
      "50000/50000 [==============================] - 9s 172us/step - loss: 0.3929 - accuracy: 0.8590 - val_loss: 2.7654 - val_accuracy: 0.4961\n",
      "Epoch 90/100\n",
      "50000/50000 [==============================] - 9s 181us/step - loss: 0.3742 - accuracy: 0.8659 - val_loss: 2.8128 - val_accuracy: 0.5042\n",
      "Epoch 91/100\n",
      "50000/50000 [==============================] - 8s 168us/step - loss: 0.3865 - accuracy: 0.8617 - val_loss: 2.8187 - val_accuracy: 0.4910\n",
      "Epoch 92/100\n",
      "50000/50000 [==============================] - 9s 175us/step - loss: 0.3741 - accuracy: 0.8676 - val_loss: 2.8291 - val_accuracy: 0.4939\n",
      "Epoch 93/100\n",
      "50000/50000 [==============================] - 9s 170us/step - loss: 0.3747 - accuracy: 0.8656 - val_loss: 2.7356 - val_accuracy: 0.4949\n",
      "Epoch 94/100\n",
      "50000/50000 [==============================] - 9s 179us/step - loss: 0.4019 - accuracy: 0.8566 - val_loss: 2.8347 - val_accuracy: 0.4959\n",
      "Epoch 95/100\n",
      "50000/50000 [==============================] - 9s 174us/step - loss: 0.3689 - accuracy: 0.8694 - val_loss: 2.8834 - val_accuracy: 0.4901\n",
      "Epoch 96/100\n",
      "50000/50000 [==============================] - 9s 177us/step - loss: 0.3564 - accuracy: 0.8726 - val_loss: 2.9321 - val_accuracy: 0.4976\n",
      "Epoch 97/100\n",
      "50000/50000 [==============================] - 8s 161us/step - loss: 0.3548 - accuracy: 0.8739 - val_loss: 2.9856 - val_accuracy: 0.4872\n",
      "Epoch 98/100\n",
      "50000/50000 [==============================] - 8s 168us/step - loss: 0.3528 - accuracy: 0.8746 - val_loss: 2.8551 - val_accuracy: 0.4937\n",
      "Epoch 99/100\n",
      "50000/50000 [==============================] - 8s 157us/step - loss: 0.3660 - accuracy: 0.8705 - val_loss: 2.9820 - val_accuracy: 0.4853\n",
      "Epoch 100/100\n",
      "50000/50000 [==============================] - 8s 167us/step - loss: 0.3565 - accuracy: 0.8739 - val_loss: 3.0222 - val_accuracy: 0.4901\n"
     ]
    },
    {
     "data": {
      "text/plain": [
       "<keras.callbacks.callbacks.History at 0x299412db1c8>"
      ]
     },
     "execution_count": 12,
     "metadata": {},
     "output_type": "execute_result"
    }
   ],
   "source": [
    "model.fit(x_train, y_train, \n",
    "          epochs=EPOCHS, \n",
    "          batch_size=BATCH_SIZE, \n",
    "          validation_data=(x_test, y_test), \n",
    "          shuffle=True)"
   ]
  },
  {
   "cell_type": "code",
   "execution_count": 14,
   "metadata": {
    "scrolled": true
   },
   "outputs": [
    {
     "data": {
      "image/png": "[encoded data removed]",
      "text/plain": [
       "<Figure size 432x288 with 1 Axes>"
      ]
     },
     "metadata": {
      "needs_background": "light"
     },
     "output_type": "display_data"
    },
    {
     "data": {
      "image/png": "[encoded data removed]",
      "text/plain": [
       "<Figure size 432x288 with 1 Axes>"
      ]
     },
     "metadata": {
      "needs_background": "light"
     },
     "output_type": "display_data"
    }
   ],
   "source": [
    "import matplotlib.pyplot as plt\n",
    "\n",
    "\n",
    "train_loss = model.history.history[\"loss\"]\n",
    "valid_loss = model.history.history[\"val_loss\"]\n",
    "\n",
    "train_acc = model.history.history[\"accuracy\"]\n",
    "valid_acc = model.history.history[\"val_accuracy\"]\n",
    "\n",
    "plt.plot(range(len(train_loss)), train_loss, label=\"train loss\")\n",
    "plt.plot(range(len(valid_loss)), valid_loss, label=\"valid loss\")\n",
    "plt.legend()\n",
    "plt.title(\"Loss\")\n",
    "plt.show()\n",
    "\n",
    "plt.plot(range(len(train_acc)), train_acc, label=\"train accuracy\")\n",
    "plt.plot(range(len(valid_acc)), valid_acc, label=\"valid accuracy\")\n",
    "plt.legend()\n",
    "plt.title(\"Accuracy\")\n",
    "plt.show()"
   ]
  },
  {
   "cell_type": "code",
   "execution_count": null,
   "metadata": {},
   "outputs": [],
   "source": []
  }
 ],
 "metadata": {
  "kernelspec": {
   "display_name": "Python 3",
   "language": "python",
   "name": "python3"
  },
  "language_info": {
   "codemirror_mode": {
    "name": "ipython",
    "version": 3
   },
   "file_extension": ".py",
   "mimetype": "text/x-python",
   "name": "python",
   "nbconvert_exporter": "python",
   "pygments_lexer": "ipython3",
   "version": "3.7.5"
  }
 },
 "nbformat": 4,
 "nbformat_minor": 2
}
