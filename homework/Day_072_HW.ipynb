{
 "cells": [
  {
   "cell_type": "markdown",
   "metadata": {},
   "source": [
    "# 作業目標:\n",
    "    寫出 ReLU & dReLU 一階導數\n",
    "    並列印\n"
   ]
  },
  {
   "cell_type": "markdown",
   "metadata": {},
   "source": [
    "# 作業重點\n",
    "\n",
    "# Rectified Linear Unit- Relu \n",
    "\n",
    "f(x)=max(0,x)\n"
   ]
  },
  {
   "cell_type": "code",
   "execution_count": 5,
   "metadata": {},
   "outputs": [
    {
     "name": "stdout",
     "output_type": "stream",
     "text": [
      "relu:\n",
      " [0, 0, 0, 0, 0, 0, 0, 0, 0, 0, 0, 0, 0, 0, 0, 0, 0, 0, 0, 0, 0, 0, 0, 0, 0, 0, 0, 0, 0, 0, 0, 0, 0, 0, 0, 0, 0, 0, 0, 0, 0, 0, 0, 0, 0, 0, 0, 0, 0, 0, 0.050505050505050164, 0.15151515151515138, 0.2525252525252526, 0.3535353535353538, 0.45454545454545414, 0.5555555555555554, 0.6565656565656566, 0.7575757575757578, 0.8585858585858581, 0.9595959595959593, 1.0606060606060606, 1.1616161616161618, 1.262626262626262, 1.3636363636363633, 1.4646464646464645, 1.5656565656565657, 1.666666666666667, 1.7676767676767673, 1.8686868686868685, 1.9696969696969697, 2.070707070707071, 2.1717171717171713, 2.2727272727272725, 2.3737373737373737, 2.474747474747475, 2.5757575757575752, 2.6767676767676765, 2.7777777777777777, 2.878787878787879, 2.9797979797979792, 3.0808080808080813, 3.1818181818181817, 3.282828282828282, 3.383838383838384, 3.4848484848484844, 3.5858585858585865, 3.686868686868687, 3.787878787878787, 3.8888888888888893, 3.9898989898989896, 4.09090909090909, 4.191919191919192, 4.292929292929292, 4.3939393939393945, 4.494949494949495, 4.595959595959595, 4.696969696969697, 4.797979797979798, 4.8989898989899, 5.0]\n",
      "drelu:\n",
      " [0, 0, 0, 0, 0, 0, 0, 0, 0, 0, 0, 0, 0, 0, 0, 0, 0, 0, 0, 0, 0, 0, 0, 0, 0, 0, 0, 0, 0, 0, 0, 0, 0, 0, 0, 0, 0, 0, 0, 0, 0, 0, 0, 0, 0, 0, 0, 0, 0, 0, 1, 1, 1, 1, 1, 1, 1, 1, 1, 1, 1, 1, 1, 1, 1, 1, 1, 1, 1, 1, 1, 1, 1, 1, 1, 1, 1, 1, 1, 1, 1, 1, 1, 1, 1, 1, 1, 1, 1, 1, 1, 1, 1, 1, 1, 1, 1, 1, 1, 1]\n"
     ]
    },
    {
     "data": {
      "image/png": "[encoded data removed]",
      "text/plain": [
       "<Figure size 432x288 with 1 Axes>"
      ]
     },
     "metadata": {
      "needs_background": "light"
     },
     "output_type": "display_data"
    }
   ],
   "source": [
    "import numpy as np\n",
    "from numpy import *\n",
    "import matplotlib.pylab as plt\n",
    "%matplotlib inline\n",
    "\n",
    "'''\n",
    "作業:\n",
    "    寫出 ReLU & dReLU 一階導數\n",
    "    並列印\n",
    "'''\n",
    "\n",
    "#Softmax 數學函數表示方式\n",
    "def softmax(x):\n",
    "     return np.exp(x) / float(sum(np.exp(x)))\n",
    "def relu(x):\n",
    "    return x if x>0 else 0\n",
    "def drelu(x):\n",
    "    return 1 if x>0 else 0\n",
    "        \n",
    "#x=np.arange(0,1.0,0.01)\n",
    "x = plt.linspace(-5,5,100)\n",
    "\n",
    "#resize the X and Y axes\n",
    "plt.gca().xaxis.set_major_locator(plt.MultipleLocator(1))\n",
    "plt.gca().yaxis.set_major_locator(plt.MultipleLocator(0.5))\n",
    "\n",
    "#列印\n",
    "relu_y=list(map(relu,x))       #list(map(lambda x:x if x>0 else 0,x))\n",
    "print(f'relu:\\n {relu_y}')\n",
    "\n",
    "drelu_y=list(map(drelu,x))\n",
    "print(f'drelu:\\n {drelu_y}')\n",
    "\n",
    "plt.plot(x, relu_y, 'r')\n",
    "plt.plot(x, drelu_y, 'g')\n",
    "\n",
    "plt.show()\n"
   ]
  },
  {
   "cell_type": "code",
   "execution_count": null,
   "metadata": {},
   "outputs": [],
   "source": []
  }
 ],
 "metadata": {
  "kernelspec": {
   "display_name": "Python 3",
   "language": "python",
   "name": "python3"
  },
  "language_info": {
   "codemirror_mode": {
    "name": "ipython",
    "version": 3
   },
   "file_extension": ".py",
   "mimetype": "text/x-python",
   "name": "python",
   "nbconvert_exporter": "python",
   "pygments_lexer": "ipython3",
   "version": "3.7.5"
  }
 },
 "nbformat": 4,
 "nbformat_minor": 2
}
